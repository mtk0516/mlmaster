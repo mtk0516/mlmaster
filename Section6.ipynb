{
 "cells": [
  {
   "cell_type": "code",
   "execution_count": 2,
   "id": "48aeaca1",
   "metadata": {},
   "outputs": [
    {
     "data": {
      "text/plain": [
       "(568, 32)"
      ]
     },
     "execution_count": 2,
     "metadata": {},
     "output_type": "execute_result"
    }
   ],
   "source": [
    "#cancerデータセットを読み込む\n",
    "import pandas as pd\n",
    "\n",
    "cancer_df = pd.read_csv('C:/Users/Administrator/Desktop/Python 3/ML_Master/python-machine-learning-book-3rd-edition/ch06/wdbc.data')\n",
    "\n",
    "cancer_df.shape"
   ]
  },
  {
   "cell_type": "code",
   "execution_count": 3,
   "id": "feab4341",
   "metadata": {},
   "outputs": [
    {
     "data": {
      "text/html": [
       "<div>\n",
       "<style scoped>\n",
       "    .dataframe tbody tr th:only-of-type {\n",
       "        vertical-align: middle;\n",
       "    }\n",
       "\n",
       "    .dataframe tbody tr th {\n",
       "        vertical-align: top;\n",
       "    }\n",
       "\n",
       "    .dataframe thead th {\n",
       "        text-align: right;\n",
       "    }\n",
       "</style>\n",
       "<table border=\"1\" class=\"dataframe\">\n",
       "  <thead>\n",
       "    <tr style=\"text-align: right;\">\n",
       "      <th></th>\n",
       "      <th>842302</th>\n",
       "      <th>M</th>\n",
       "      <th>17.99</th>\n",
       "      <th>10.38</th>\n",
       "      <th>122.8</th>\n",
       "      <th>1001</th>\n",
       "      <th>0.1184</th>\n",
       "      <th>0.2776</th>\n",
       "      <th>0.3001</th>\n",
       "      <th>0.1471</th>\n",
       "      <th>...</th>\n",
       "      <th>25.38</th>\n",
       "      <th>17.33</th>\n",
       "      <th>184.6</th>\n",
       "      <th>2019</th>\n",
       "      <th>0.1622</th>\n",
       "      <th>0.6656</th>\n",
       "      <th>0.7119</th>\n",
       "      <th>0.2654</th>\n",
       "      <th>0.4601</th>\n",
       "      <th>0.1189</th>\n",
       "    </tr>\n",
       "  </thead>\n",
       "  <tbody>\n",
       "    <tr>\n",
       "      <th>0</th>\n",
       "      <td>842517</td>\n",
       "      <td>M</td>\n",
       "      <td>20.57</td>\n",
       "      <td>17.77</td>\n",
       "      <td>132.90</td>\n",
       "      <td>1326.0</td>\n",
       "      <td>0.08474</td>\n",
       "      <td>0.07864</td>\n",
       "      <td>0.0869</td>\n",
       "      <td>0.07017</td>\n",
       "      <td>...</td>\n",
       "      <td>24.99</td>\n",
       "      <td>23.41</td>\n",
       "      <td>158.80</td>\n",
       "      <td>1956.0</td>\n",
       "      <td>0.1238</td>\n",
       "      <td>0.1866</td>\n",
       "      <td>0.2416</td>\n",
       "      <td>0.1860</td>\n",
       "      <td>0.2750</td>\n",
       "      <td>0.08902</td>\n",
       "    </tr>\n",
       "    <tr>\n",
       "      <th>1</th>\n",
       "      <td>84300903</td>\n",
       "      <td>M</td>\n",
       "      <td>19.69</td>\n",
       "      <td>21.25</td>\n",
       "      <td>130.00</td>\n",
       "      <td>1203.0</td>\n",
       "      <td>0.10960</td>\n",
       "      <td>0.15990</td>\n",
       "      <td>0.1974</td>\n",
       "      <td>0.12790</td>\n",
       "      <td>...</td>\n",
       "      <td>23.57</td>\n",
       "      <td>25.53</td>\n",
       "      <td>152.50</td>\n",
       "      <td>1709.0</td>\n",
       "      <td>0.1444</td>\n",
       "      <td>0.4245</td>\n",
       "      <td>0.4504</td>\n",
       "      <td>0.2430</td>\n",
       "      <td>0.3613</td>\n",
       "      <td>0.08758</td>\n",
       "    </tr>\n",
       "    <tr>\n",
       "      <th>2</th>\n",
       "      <td>84348301</td>\n",
       "      <td>M</td>\n",
       "      <td>11.42</td>\n",
       "      <td>20.38</td>\n",
       "      <td>77.58</td>\n",
       "      <td>386.1</td>\n",
       "      <td>0.14250</td>\n",
       "      <td>0.28390</td>\n",
       "      <td>0.2414</td>\n",
       "      <td>0.10520</td>\n",
       "      <td>...</td>\n",
       "      <td>14.91</td>\n",
       "      <td>26.50</td>\n",
       "      <td>98.87</td>\n",
       "      <td>567.7</td>\n",
       "      <td>0.2098</td>\n",
       "      <td>0.8663</td>\n",
       "      <td>0.6869</td>\n",
       "      <td>0.2575</td>\n",
       "      <td>0.6638</td>\n",
       "      <td>0.17300</td>\n",
       "    </tr>\n",
       "    <tr>\n",
       "      <th>3</th>\n",
       "      <td>84358402</td>\n",
       "      <td>M</td>\n",
       "      <td>20.29</td>\n",
       "      <td>14.34</td>\n",
       "      <td>135.10</td>\n",
       "      <td>1297.0</td>\n",
       "      <td>0.10030</td>\n",
       "      <td>0.13280</td>\n",
       "      <td>0.1980</td>\n",
       "      <td>0.10430</td>\n",
       "      <td>...</td>\n",
       "      <td>22.54</td>\n",
       "      <td>16.67</td>\n",
       "      <td>152.20</td>\n",
       "      <td>1575.0</td>\n",
       "      <td>0.1374</td>\n",
       "      <td>0.2050</td>\n",
       "      <td>0.4000</td>\n",
       "      <td>0.1625</td>\n",
       "      <td>0.2364</td>\n",
       "      <td>0.07678</td>\n",
       "    </tr>\n",
       "    <tr>\n",
       "      <th>4</th>\n",
       "      <td>843786</td>\n",
       "      <td>M</td>\n",
       "      <td>12.45</td>\n",
       "      <td>15.70</td>\n",
       "      <td>82.57</td>\n",
       "      <td>477.1</td>\n",
       "      <td>0.12780</td>\n",
       "      <td>0.17000</td>\n",
       "      <td>0.1578</td>\n",
       "      <td>0.08089</td>\n",
       "      <td>...</td>\n",
       "      <td>15.47</td>\n",
       "      <td>23.75</td>\n",
       "      <td>103.40</td>\n",
       "      <td>741.6</td>\n",
       "      <td>0.1791</td>\n",
       "      <td>0.5249</td>\n",
       "      <td>0.5355</td>\n",
       "      <td>0.1741</td>\n",
       "      <td>0.3985</td>\n",
       "      <td>0.12440</td>\n",
       "    </tr>\n",
       "  </tbody>\n",
       "</table>\n",
       "<p>5 rows × 32 columns</p>\n",
       "</div>"
      ],
      "text/plain": [
       "     842302  M  17.99  10.38   122.8    1001   0.1184   0.2776  0.3001  \\\n",
       "0    842517  M  20.57  17.77  132.90  1326.0  0.08474  0.07864  0.0869   \n",
       "1  84300903  M  19.69  21.25  130.00  1203.0  0.10960  0.15990  0.1974   \n",
       "2  84348301  M  11.42  20.38   77.58   386.1  0.14250  0.28390  0.2414   \n",
       "3  84358402  M  20.29  14.34  135.10  1297.0  0.10030  0.13280  0.1980   \n",
       "4    843786  M  12.45  15.70   82.57   477.1  0.12780  0.17000  0.1578   \n",
       "\n",
       "    0.1471  ...  25.38  17.33   184.6    2019  0.1622  0.6656  0.7119  0.2654  \\\n",
       "0  0.07017  ...  24.99  23.41  158.80  1956.0  0.1238  0.1866  0.2416  0.1860   \n",
       "1  0.12790  ...  23.57  25.53  152.50  1709.0  0.1444  0.4245  0.4504  0.2430   \n",
       "2  0.10520  ...  14.91  26.50   98.87   567.7  0.2098  0.8663  0.6869  0.2575   \n",
       "3  0.10430  ...  22.54  16.67  152.20  1575.0  0.1374  0.2050  0.4000  0.1625   \n",
       "4  0.08089  ...  15.47  23.75  103.40   741.6  0.1791  0.5249  0.5355  0.1741   \n",
       "\n",
       "   0.4601   0.1189  \n",
       "0  0.2750  0.08902  \n",
       "1  0.3613  0.08758  \n",
       "2  0.6638  0.17300  \n",
       "3  0.2364  0.07678  \n",
       "4  0.3985  0.12440  \n",
       "\n",
       "[5 rows x 32 columns]"
      ]
     },
     "execution_count": 3,
     "metadata": {},
     "output_type": "execute_result"
    }
   ],
   "source": [
    "cancer_df.head()"
   ]
  },
  {
   "cell_type": "code",
   "execution_count": 4,
   "id": "d11512a9",
   "metadata": {},
   "outputs": [
    {
     "data": {
      "text/plain": [
       "array([1, 1, 1, 1, 1, 1, 1, 1, 1, 1, 1, 1, 1, 1, 1, 1, 1, 1, 0, 0, 0, 1,\n",
       "       1, 1, 1, 1, 1, 1, 1, 1, 1, 1, 1, 1, 1, 1, 0, 1, 1, 1, 1, 1, 1, 1,\n",
       "       1, 0, 1, 0, 0, 0, 0, 0, 1, 1, 0, 1, 1, 0, 0, 0, 0, 1, 0, 1, 1, 0,\n",
       "       0, 0, 0, 1, 0, 1, 1, 0, 1, 0, 1, 1, 0, 0, 0, 1, 1, 0, 1, 1, 1, 0,\n",
       "       0, 0, 1, 0, 0, 1, 1, 0, 0, 0, 1, 1, 0, 0, 0, 0, 1, 0, 0, 1, 0, 0,\n",
       "       0, 0, 0, 0, 0, 0, 1, 1, 1, 0, 1, 1, 0, 0, 0, 1, 1, 0, 1, 0, 1, 1,\n",
       "       0, 1, 1, 0, 0, 1, 0, 0, 1, 0, 0, 0, 0, 1, 0, 0, 0, 0, 0, 0, 0, 0,\n",
       "       0, 1, 0, 0, 0, 0, 1, 1, 0, 1, 0, 0, 1, 1, 0, 0, 1, 1, 0, 0, 0, 0,\n",
       "       1, 0, 0, 1, 1, 1, 0, 1, 0, 1, 0, 0, 0, 1, 0, 0, 1, 1, 0, 1, 1, 1,\n",
       "       1, 0, 1, 1, 1, 0, 1, 0, 1, 0, 0, 1, 0, 1, 1, 1, 1, 0, 0, 1, 1, 0,\n",
       "       0, 0, 1, 0, 0, 0, 0, 0, 1, 1, 0, 0, 1, 0, 0, 1, 1, 0, 1, 0, 0, 0,\n",
       "       0, 1, 0, 0, 0, 0, 0, 1, 0, 1, 1, 1, 1, 1, 1, 1, 1, 1, 1, 1, 1, 1,\n",
       "       1, 0, 0, 0, 0, 0, 0, 1, 0, 1, 0, 0, 1, 0, 0, 1, 0, 1, 1, 0, 0, 0,\n",
       "       0, 0, 0, 0, 0, 0, 0, 0, 0, 0, 1, 0, 0, 1, 0, 1, 0, 0, 0, 0, 0, 0,\n",
       "       0, 0, 0, 0, 0, 0, 0, 0, 1, 0, 0, 0, 1, 0, 1, 0, 0, 0, 0, 1, 1, 1,\n",
       "       0, 0, 0, 0, 1, 0, 1, 0, 1, 0, 0, 0, 1, 0, 0, 0, 0, 0, 0, 0, 1, 1,\n",
       "       1, 0, 0, 0, 0, 0, 0, 0, 0, 0, 0, 0, 1, 1, 0, 1, 1, 1, 0, 1, 1, 0,\n",
       "       0, 0, 0, 0, 1, 0, 0, 0, 0, 0, 1, 0, 0, 0, 1, 0, 0, 1, 1, 0, 0, 0,\n",
       "       0, 0, 0, 1, 0, 0, 0, 0, 0, 0, 0, 1, 0, 0, 0, 0, 0, 1, 0, 0, 1, 0,\n",
       "       0, 0, 0, 0, 0, 0, 0, 0, 0, 0, 0, 1, 0, 1, 1, 0, 1, 0, 0, 0, 0, 0,\n",
       "       1, 0, 0, 1, 0, 1, 0, 0, 1, 0, 1, 0, 0, 0, 0, 0, 0, 0, 0, 1, 1, 0,\n",
       "       0, 0, 0, 0, 0, 1, 0, 0, 0, 0, 0, 0, 0, 0, 0, 0, 1, 0, 0, 0, 0, 0,\n",
       "       0, 0, 1, 0, 1, 0, 0, 1, 0, 0, 0, 0, 0, 1, 1, 0, 1, 0, 1, 0, 0, 0,\n",
       "       0, 0, 1, 0, 0, 1, 0, 1, 0, 1, 1, 0, 0, 0, 1, 0, 0, 0, 0, 0, 0, 0,\n",
       "       0, 0, 0, 0, 1, 0, 1, 1, 0, 0, 0, 0, 0, 0, 0, 0, 0, 0, 0, 0, 0, 0,\n",
       "       0, 0, 0, 0, 0, 0, 0, 0, 0, 0, 0, 1, 1, 1, 1, 1, 1, 0])"
      ]
     },
     "execution_count": 4,
     "metadata": {},
     "output_type": "execute_result"
    }
   ],
   "source": [
    "#yをラベルエンコードして0/1の数値にする\n",
    "from sklearn.preprocessing import LabelEncoder\n",
    "\n",
    "#X/yに分離\n",
    "X = cancer_df.iloc[:,2:]\n",
    "y = cancer_df.iloc[:,1]\n",
    "\n",
    "#LE\n",
    "LE = LabelEncoder()\n",
    "\n",
    "y = LE.fit_transform(y)\n",
    "y#B:0/M:1の配列に変換"
   ]
  },
  {
   "cell_type": "code",
   "execution_count": 5,
   "id": "595962de",
   "metadata": {},
   "outputs": [],
   "source": [
    "#分離\n",
    "from sklearn.model_selection import train_test_split\n",
    "\n",
    "X_train,X_test,y_train,y_test = train_test_split(X,y,test_size=0.3,random_state=0)"
   ]
  },
  {
   "cell_type": "code",
   "execution_count": 6,
   "id": "a8190348",
   "metadata": {},
   "outputs": [],
   "source": [
    "#Xは様々な尺度からなる特徴量なので、標準化しておかないと、モデルに投入できない\n",
    "#さらに、30次元を2次元にまで圧縮したいというのもあったとする\n",
    "#標準化してPCAして、ロジスティック回帰に投入したい\n",
    "#複数の処理を一括で行えるよう、パイプラインを構築する\n",
    "\n",
    "from sklearn.preprocessing import StandardScaler\n",
    "from sklearn.linear_model import LogisticRegression\n",
    "from sklearn.decomposition import PCA\n",
    "from sklearn.pipeline import make_pipeline#pipeline生成\n",
    "\n",
    "#連結する処理として、StandardScale,PCA,ロジスティック回帰を行う\n",
    "#make_pipelineメソッドは、引数にsklearnの変換器と推定機をうけとることができ、何個でもつなげること可能\n",
    "#pipelineオブジェクトにfitすることで、複数の処理を一括で処理可能\n",
    "pipe_lr = make_pipeline(StandardScaler(),#変換器をpipelineにぶちこむと、内部的にはfit_transformをやっている\n",
    "                        PCA(n_components=2),\n",
    "                        LogisticRegression(C=1.0,random_state=0,solver='lbfgs')#pipelineの最後の要素は、推定機でなくてはダメ\n",
    "                       )"
   ]
  },
  {
   "cell_type": "code",
   "execution_count": 7,
   "id": "195829e0",
   "metadata": {},
   "outputs": [
    {
     "data": {
      "text/plain": [
       "0.9590643274853801"
      ]
     },
     "execution_count": 7,
     "metadata": {},
     "output_type": "execute_result"
    }
   ],
   "source": [
    "#pipelineオブジェクトは推定機と同じ、fit/predictメソッドがある\n",
    "from sklearn.metrics import accuracy_score\n",
    "\n",
    "pipe_lr.fit(X_train,y_train)\n",
    "pipe_lr.predict(X_test)\n",
    "\n",
    "#精度\n",
    "accuracy_score(pipe_lr.predict(X_test),y_test)"
   ]
  },
  {
   "cell_type": "code",
   "execution_count": 8,
   "id": "71d3a929",
   "metadata": {},
   "outputs": [],
   "source": [
    "#ホールド・アウト法とk分割交差検証について\n",
    "\n",
    "#訓練データを、学習とバリデーションに分割し、都度学習とバリデーションをシャッフルしながら\n",
    "#パラメーターチューンをおこなうことをホールド・アウト法という。trainとvalの分割を何通りも試しながら、\n",
    "#満足育成度のパラメーターを見つけて、そのパラメターでテストデータの精度をみる。\n",
    "\n",
    "#パラメターチューンにテストデータをつかうと\n",
    "#結局テストデータも学習に使うことになるわけで、過学習に陥るため。\n",
    "\n",
    "#ただし、クレンデータの分割のやり方によっては精度が大きくかわってきてしまうため、\n",
    "#分割のやり方をより頑健にしたのがK分割交差検証法である。\n",
    "\n",
    "#K分割交差検証は、モデルの汎化性能を見るため、またパラメータ探索のために使われる\n",
    "#10K分割交差検証の場合、学習データを10分割して、そのうちの1個をテストデータとして、\n",
    "#それ以外を学習データにして、10回のトライの平均精度をみることで、ベストなパラメータを探る\n",
    "#K=10がベストなプラクティスだと言われている\n",
    "\n",
    "#層化k分割交差検証では、train/valの分割において、yのターゲットラベルの分布を反映した分割にしている。\n",
    "#クラスの分布比率が歪んでいるような場合には有効である。"
   ]
  },
  {
   "cell_type": "code",
   "execution_count": 9,
   "id": "f42c0b46",
   "metadata": {},
   "outputs": [
    {
     "name": "stdout",
     "output_type": "stream",
     "text": [
      "1 fold score : 1.00\n",
      "2 fold score : 0.97\n",
      "3 fold score : 1.00\n",
      "4 fold score : 0.88\n",
      "5 fold score : 0.95\n",
      "6 fold score : 0.93\n",
      "7 fold score : 0.95\n",
      "8 fold score : 0.95\n",
      "9 fold score : 1.00\n",
      "10 fold score : 0.90\n"
     ]
    }
   ],
   "source": [
    "import numpy as np\n",
    "from sklearn.model_selection import StratifiedKFold\n",
    "\n",
    "#StratifiedKFoldインスタンス生成\n",
    "SKF = StratifiedKFold(n_splits=10)\n",
    "\n",
    "#訓練データを分割\n",
    "#StratifiedKFold.split(X_train,y_train)でtrainデータをtrain/val二分割する\n",
    "spl = SKF.split(X_train,y_train)\n",
    "\n",
    "#K分割交差検証をしながら精度確認\n",
    "scores = []\n",
    "\n",
    "for k, (train,test) in enumerate(spl):\n",
    "    \"\"\"\n",
    "    iteratorのindexを、enumerate(spl)のfor loopで取得して\n",
    "    K分割は毎回、train/valのindexを返してくるから、(train,test)にindexを食わして\n",
    "    毎回X_trainをtrain/valに分割して、FITさせて、未知のvalデータに対する精度をみている。\n",
    "    \n",
    "    \"\"\"\n",
    "    pipe_lr.fit(X_train.iloc[train,:],y_train[train])\n",
    "    score = pipe_lr.score(X_train.iloc[test,:],y_train[test])\n",
    "    scores.append(score)\n",
    "    print('{} fold score : {:.2f}'.format(k+1,score))"
   ]
  },
  {
   "cell_type": "code",
   "execution_count": 10,
   "id": "2d0489e3",
   "metadata": {},
   "outputs": [
    {
     "name": "stdout",
     "output_type": "stream",
     "text": [
      "cross-val-score cv=10 mean: 0.952\n",
      "cross-val-score cv=10 std: 0.041\n"
     ]
    }
   ],
   "source": [
    "#ここまで実験したことは、sklearnのcross_validationを使えば簡単にできる\n",
    "from sklearn.model_selection import cross_val_score\n",
    "\n",
    "#cross_val_score(estimator,X,y,cv=n)とかく\n",
    "scores = cross_val_score(pipe_lr,X_train,y_train,cv=10,n_jobs=-1)\n",
    "print('cross-val-score cv=10 mean: {:.3f}'.format(np.mean(scores)))\n",
    "print('cross-val-score cv=10 std: {:.3f}'.format(np.std(scores)))"
   ]
  },
  {
   "cell_type": "code",
   "execution_count": 11,
   "id": "98c3da02",
   "metadata": {},
   "outputs": [
    {
     "data": {
      "text/plain": [
       "Text(0.5, 1.0, 'learning curve(num of samples vs train accuracy)')"
      ]
     },
     "execution_count": 11,
     "metadata": {},
     "output_type": "execute_result"
    },
    {
     "data": {
      "image/png": "[encoded data removed]",
      "text/plain": [
       "<Figure size 432x288 with 1 Axes>"
      ]
     },
     "metadata": {
      "needs_background": "light"
     },
     "output_type": "display_data"
    }
   ],
   "source": [
    "#学習曲線を使って,モデルのバイアスとバリアンスの傾向を診断する\n",
    "import matplotlib.pyplot as plt\n",
    "from sklearn.model_selection import learning_curve#学習曲線関数\n",
    "pipe_lr = make_pipeline(StandardScaler(),\n",
    "                        LogisticRegression(penalty='l2',solver='lbfgs',random_state=1,max_iter=10000)\n",
    "                        )\n",
    "\n",
    "#learning_curveで学習曲線を描いてみる\n",
    "#learning_curve関数は、交差検証を実行してnumpy配列を返す。\n",
    "#返す配列は、訓練データのサイズ、訓練データのスコア、テストデータのスコア、の3つである\n",
    "#要するに学習データを任意のサイズで増やしていったときに、train/testのスコアが10分割KFOLDでどう変わるか、をみることで\n",
    "#バイアスとバリアンスの傾向を見れるということ\n",
    "train_sizes, train_scores, test_scores = learning_curve(estimator=pipe_lr,\n",
    "                                                        X=X_train,\n",
    "                                                        y=y_train,\n",
    "                                                        train_sizes=np.linspace(0.1,1.0,10),#train_sizeを\n",
    "                                                        #0.1-1.0まで0.1刻み(10pattern)のtrain_sizeの比率\n",
    "                                                        cv=10,#10 k-fold,\n",
    "                                                        n_jobs=-1)\n",
    "#10分割で検証されたtrainの精度/sd\n",
    "train_mean = np.mean(train_scores,axis=1)\n",
    "train_std = np.std(train_scores,axis=1)\n",
    "#test\n",
    "test_mean = np.mean(test_scores,axis=1)\n",
    "test_std = np.std(test_scores,axis=1)\n",
    "\n",
    "#train_sizeごとの訓練データの精度\n",
    "plt.plot(train_sizes, train_mean, c='c',marker='o',label='Train accuracy')\n",
    "#fill_betweenで、スコアの標準偏差領域を塗りつぶす\n",
    "plt.fill_between(train_sizes, train_mean+train_std, train_mean-train_std,alpha=.5,color='lightblue')\n",
    "#train_sizeごとのtestデータの精度\n",
    "plt.plot(train_sizes, test_mean, c='g',marker='x',label='Test accuracy')\n",
    "plt.fill_between(train_sizes, test_mean+test_std, test_mean-test_std,alpha=.5,color='lightgreen')\n",
    "plt.legend()\n",
    "plt.xlabel('num of train sizes')\n",
    "plt.ylabel('accuracy')\n",
    "plt.title('learning curve(num of samples vs train accuracy)')"
   ]
  },
  {
   "cell_type": "code",
   "execution_count": 12,
   "id": "a836088b",
   "metadata": {},
   "outputs": [
    {
     "data": {
      "text/plain": [
       "Text(0.5, 1.0, 'validation curve(hyperparam vs train accuracy)')"
      ]
     },
     "execution_count": 12,
     "metadata": {},
     "output_type": "execute_result"
    },
    {
     "data": {
      "image/png": "[encoded data removed]",
      "text/plain": [
       "<Figure size 432x288 with 1 Axes>"
      ]
     },
     "metadata": {
      "needs_background": "light"
     },
     "output_type": "display_data"
    }
   ],
   "source": [
    "#学習曲線は、訓練データのサイズから、train/testの精度を10KFoldで交差検証してみてみるものだった\n",
    "#検証曲線は、モデルのパラメーターが、それらの精度にどう影響するか推移を見ることができる\n",
    "from sklearn.model_selection import validation_curve\n",
    "param_range = [0.001,0.01,0.1,1,3,10,20,50]\n",
    "\n",
    "#validation_curve関数は、モデルのパラメタを変化させて、train/testの精度を交差検証で確認する\n",
    "train_scores, test_scores = validation_curve(estimator=pipe_lr,\n",
    "                                             X=X_train,\n",
    "                                             y=y_train,\n",
    "                                             param_name='logisticregression__C',#変化させることで精度変化をみたいパラメタ名,pipeline内の名称を入れることに注意\n",
    "                                             param_range=param_range,#paramのレンジは前もって指定しておく\n",
    "                                             cv=10)\n",
    "\n",
    "#学習曲線とおなじことをやる\n",
    "train_mean = np.mean(train_scores,axis=1)\n",
    "train_std = np.std(train_scores,axis=1)\n",
    "test_mean = np.mean(test_scores,axis=1)\n",
    "test_std = np.std(test_scores,axis=1)\n",
    "\n",
    "#train_sizeごとの訓練データの精度\n",
    "plt.plot(param_range, train_mean, c='c',marker='o',label='Train accuracy')\n",
    "#fill_betweenで、スコアの標準偏差領域を塗りつぶす\n",
    "plt.fill_between(param_range, train_mean+train_std, train_mean-train_std,alpha=.5,color='lightblue')\n",
    "#train_sizeごとのtestデータの精度\n",
    "plt.plot(param_range, test_mean, c='g',marker='x',label='Test accuracy')\n",
    "plt.fill_between(param_range, test_mean+test_std, test_mean-test_std,alpha=.5,color='lightgreen')\n",
    "plt.legend()\n",
    "plt.xlabel('LogisticRegression:C')\n",
    "plt.xscale('log')#X軸は対数スケールにする（Cの値の単位）\n",
    "plt.ylabel('accuracy')\n",
    "plt.title('validation curve(hyperparam vs train accuracy)')"
   ]
  },
  {
   "cell_type": "markdown",
   "id": "beb699f0",
   "metadata": {},
   "source": [
    "検証曲線の結果を見ると、Cは0.1から1くらいが適当に思える"
   ]
  },
  {
   "cell_type": "code",
   "execution_count": 13,
   "id": "b9834c21",
   "metadata": {},
   "outputs": [
    {
     "name": "stdout",
     "output_type": "stream",
     "text": [
      "0.9748717948717948\n",
      "{'svc__C': 10, 'svc__gamma': 0.01, 'svc__kernel': 'rbf'}\n"
     ]
    }
   ],
   "source": [
    "#grid searchによるパラメーターチューン\n",
    "from sklearn.model_selection import GridSearchCV\n",
    "from sklearn.svm import SVC\n",
    "#標準化してSVCを適用するパイプライン作成(paramはdefault)\n",
    "pipe_svc = make_pipeline(StandardScaler(),SVC(random_state=1))\n",
    "\n",
    "#GridSearchするためのパラメータ候補\n",
    "param_range = [0.001,0.01,0.1,0.5,1,5,10,20,30,50,100]\n",
    "\n",
    "#parameter grid. {parameterの項目名:候補リスト}の辞書からなる、リストを作る\n",
    "param_grid = [{'svc__C':param_range, 'svc__kernel':['rbf'],'svc__gamma':param_range},\n",
    "              {'svc__C':param_range, 'svc__kernel':['linear']}]#線形svcにはsvc__gammaは存在しないパラメーター\n",
    "\n",
    "#hyperparamの値のリストparam_gridを指定しGridsearchを行うGridsearchCVインスタンス\n",
    "GS = GridSearchCV(estimator=pipe_svc,#estimator\n",
    "                  param_grid=param_grid,#parameter grid list of dict\n",
    "                  scoring='accuracy',#metrics\n",
    "                  cv=10,#cv\n",
    "                  refit=True,#If true, automatically fit to train data\n",
    "                  n_jobs=-1)\n",
    "\n",
    "GS.fit(X_train,y_train)\n",
    "\n",
    "#best score\n",
    "print(GS.best_score_)\n",
    "\n",
    "#最良スコアとなるパラメータ\n",
    "print(GS.best_params_)"
   ]
  },
  {
   "cell_type": "code",
   "execution_count": 14,
   "id": "37ed57f7",
   "metadata": {},
   "outputs": [
    {
     "name": "stdout",
     "output_type": "stream",
     "text": [
      "Test accu: 0.959\n"
     ]
    }
   ],
   "source": [
    "#GridSearchでベストとされたパラメーターを使い、テストデータを分離する\n",
    "clf = GS.best_estimator_#best_estimator_でベストパラメータをひきついだSVC pipelineインスタンス\n",
    "clf.fit(X_train,y_train)\n",
    "#test data accuracy\n",
    "print('Test accu: {:.3f}'.format(clf.score(X_test,y_test)))"
   ]
  },
  {
   "cell_type": "code",
   "execution_count": 15,
   "id": "3b875748",
   "metadata": {},
   "outputs": [
    {
     "name": "stdout",
     "output_type": "stream",
     "text": [
      "{'svc__kernel': 'linear', 'svc__gamma': 10, 'svc__C': 0.1}\n",
      "0.9580604551794764\n"
     ]
    }
   ],
   "source": [
    "#RandomizedSearchCVをつかうとはやい\n",
    "from sklearn.model_selection import RandomizedSearchCV\n",
    "\n",
    "param_grid = {'svc__C':[0.001,0.01,0.1,1,10,30,50],\n",
    "              'svc__gamma':[0.001,0.01,0.1,1,5,10,50],\n",
    "              'svc__kernel':['rbf','linear'],\n",
    "              }\n",
    "\n",
    "RSC = RandomizedSearchCV(param_distributions=param_grid,\n",
    "                         cv=10,\n",
    "                         estimator=pipe_svc,\n",
    "                         scoring='f1',#F1score\n",
    "                         n_jobs=-1)\n",
    "\n",
    "RSC.fit(X_train,y_train)\n",
    "\n",
    "print(RSC.best_params_)\n",
    "print(RSC.best_score_)"
   ]
  },
  {
   "cell_type": "code",
   "execution_count": 16,
   "id": "ff41ba78",
   "metadata": {},
   "outputs": [
    {
     "name": "stdout",
     "output_type": "stream",
     "text": [
      "mean f1 score : 0.9527587165017103, std of f1 score : 0.020036530135086904\n"
     ]
    }
   ],
   "source": [
    "#入れ子式の交差検証を試す\n",
    "#入れ子式とは、普通にK分割交差検証において、K個の訓練/テストにデータを分割するが、\n",
    "#そのK個のうちの1個の分割のサブセットにおいて、そのサブセットの訓練データとテストデータをさらに\n",
    "#n分割交差検証を行うことを意味する\n",
    "\n",
    "gs = GridSearchCV(estimator=pipe_svc,cv=2,param_grid=param_grid,scoring='f1')#K分割サブセットにおけるCV=2（内側CV）\n",
    "scores = cross_val_score(gs,X_train,y_train,cv=5,scoring='f1')#トレーンデータにおけるCV=5（外側CV）\n",
    "\n",
    "print('mean f1 score : {}, std of f1 score : {}'.format(np.mean(scores),np.std(scores)))"
   ]
  },
  {
   "cell_type": "code",
   "execution_count": null,
   "id": "c85f5e49",
   "metadata": {},
   "outputs": [],
   "source": [
    "#RFCと比較\n",
    "from sklearn.ensemble import RandomForestClassifier\n",
    "#hyperparameterとしてn_estimatorと木の深さを探索\n",
    "\n",
    "param_grid_rfc = [{'n_estimators':[100,300,500,700,1000,3000],\n",
    "                   'max_depth':[3,5,7,10]}]\n",
    "\n",
    "#estimator instance create\n",
    "RFC = RandomForestClassifier(random_state=0)\n",
    "\n",
    "#Gridsearch instace\n",
    "gs_rfc = GridSearchCV(estimator=RFC,\n",
    "                      param_grid=param_grid_rfc,\n",
    "                      cv=2,\n",
    "                      scoring='f1',\n",
    "                      n_jobs=-1)\n",
    "\n",
    "#入れ子式交差検証において平均スコアとSDをもとめる\n",
    "scores_rfc = cross_val_score(gs_rfc,\n",
    "                         X_train,\n",
    "                         y_train,\n",
    "                         cv=5,scoring='f1')\n",
    "\n",
    "print('mean f1 score : {}, std of f1 score : {}'.format(np.mean(scores_rfc),np.std(scores_rfc)))"
   ]
  },
  {
   "cell_type": "code",
   "execution_count": 25,
   "id": "c2c6439b",
   "metadata": {},
   "outputs": [
    {
     "name": "stdout",
     "output_type": "stream",
     "text": [
      "[[112   0]\n",
      " [  6  53]]\n"
     ]
    }
   ],
   "source": [
    "#様々な性能評価指標\n",
    "#混同行列の理解から\n",
    "\n",
    "from sklearn.metrics import confusion_matrix\n",
    "pipe_svc.fit(X_train,y_train)\n",
    "y_pred = pipe_svc.predict(X_test)\n",
    "\n",
    "#テストデータと予測データカラ混同行列をつくる\n",
    "conf = confusion_matrix(y_test,y_pred)\n",
    "print(conf)"
   ]
  },
  {
   "cell_type": "code",
   "execution_count": 40,
   "id": "3d03b6a5",
   "metadata": {},
   "outputs": [
    {
     "data": {
      "text/plain": [
       "Text(123.0, 0.5, 'Actual')"
      ]
     },
     "execution_count": 40,
     "metadata": {},
     "output_type": "execute_result"
    },
    {
     "data": {
      "image/png": "[encoded data removed]",
      "text/plain": [
       "<Figure size 1152x864 with 2 Axes>"
      ]
     },
     "metadata": {
      "needs_background": "light"
     },
     "output_type": "display_data"
    }
   ],
   "source": [
    "#混同行列の可視化\n",
    "import seaborn as sns\n",
    "fig,axes = plt.subplots(1,1,figsize=(16,12))\n",
    "sns.heatmap(conf,cmap='bwr',annot=True)\n",
    "plt.xlabel('prediction')\n",
    "plt.ylabel('Actual')"
   ]
  },
  {
   "cell_type": "code",
   "execution_count": 48,
   "id": "079357fe",
   "metadata": {},
   "outputs": [
    {
     "name": "stdout",
     "output_type": "stream",
     "text": [
      "Precision: 0.8983050847457628\n",
      "Recall: 1.0\n",
      "f1: 0.9464285714285715\n"
     ]
    }
   ],
   "source": [
    "#プレシジョン、リコール、F1スコアについて\n",
    "from sklearn.metrics import precision_score, recall_score, f1_score\n",
    "\n",
    "print('Precision:',precision_score(y_pred,y_test))\n",
    "print('Recall:',recall_score(y_pred,y_test))\n",
    "print('f1:',f1_score(y_pred,y_test))"
   ]
  },
  {
   "cell_type": "code",
   "execution_count": 51,
   "id": "9abfb7b7",
   "metadata": {},
   "outputs": [
    {
     "name": "stdout",
     "output_type": "stream",
     "text": [
      "mean f1 score : 0.9738577612863327, std of f1 score : 0.014951144094001246\n"
     ]
    }
   ],
   "source": [
    "#Grissearchでカスタムな性能評価指標を使う\n",
    "#sklearn.metricsのmake_scorer関数を使うと、Gridsearchなどのときのカスタム評価指標を作れる\n",
    "from sklearn.metrics import make_scorer\n",
    "scorer = make_scorer(f1_score,pos_label=0)#make_scorer関数を使い、任意の評価指標と、陽性ラベルがどちらなのかを指定する\n",
    "\n",
    "gs = GridSearchCV(estimator=pipe_svc,cv=2,param_grid=param_grid,scoring=scorer)#カスタム評価指標\n",
    "scores = cross_val_score(gs,X_train,y_train,cv=5,scoring=scorer)\n",
    "\n",
    "print('mean f1 score : {}, std of f1 score : {}'.format(np.mean(scores),np.std(scores)))"
   ]
  },
  {
   "cell_type": "code",
   "execution_count": 86,
   "id": "be077016",
   "metadata": {},
   "outputs": [
    {
     "name": "stderr",
     "output_type": "stream",
     "text": [
      "C:\\ProgramData\\Anaconda3\\lib\\site-packages\\ipykernel_launcher.py:30: DeprecationWarning: scipy.interp is deprecated and will be removed in SciPy 2.0.0, use numpy.interp instead\n",
      "C:\\ProgramData\\Anaconda3\\lib\\site-packages\\ipykernel_launcher.py:30: DeprecationWarning: scipy.interp is deprecated and will be removed in SciPy 2.0.0, use numpy.interp instead\n"
     ]
    },
    {
     "data": {
      "image/png": "[encoded data removed]",
      "text/plain": [
       "<Figure size 864x576 with 1 Axes>"
      ]
     },
     "metadata": {
      "needs_background": "light"
     },
     "output_type": "display_data"
    }
   ],
   "source": [
    "#ROC-AUC\n",
    "from sklearn.metrics import roc_curve,roc_auc_score,auc\n",
    "from scipy import interp\n",
    "\n",
    "#scaling,pca,logisticregression pipeline\n",
    "pipe_lr = make_pipeline(StandardScaler(),\n",
    "                        PCA(n_components=2),\n",
    "                        LogisticRegression(penalty='l2',random_state=0,solver='lbfgs',C=10))\n",
    "\n",
    "#特徴量を2つに絞る\n",
    "X_train2 = X_train.iloc[:,[4,14]]\n",
    "\n",
    "#交差検証をするためにStratifiedKFoldインスタンス作成\n",
    "cv = list(StratifiedKFold(n_splits=2).split(X_train,y_train))\n",
    "\n",
    "#plot\n",
    "fig = plt.figure(figsize=(12,8))\n",
    "\n",
    "mean_tpr = 0.0\n",
    "mean_fpr = np.linspace(0, 1, 100)\n",
    "all_tpr = []\n",
    "\n",
    "for i, (train, test) in enumerate(cv):\n",
    "    probas = pipe_lr.fit(X_train2.iloc[train],\n",
    "                         y_train[train]).predict_proba(X_train2.iloc[test])\n",
    "\n",
    "    fpr, tpr, thresholds = roc_curve(y_train[test],\n",
    "                                     probas[:, 1],\n",
    "                                     pos_label=1)\n",
    "    mean_tpr += interp(mean_fpr, fpr, tpr)\n",
    "    mean_tpr[0] = 0.0\n",
    "    roc_auc = auc(fpr, tpr)\n",
    "    plt.plot(fpr,\n",
    "             tpr,\n",
    "             label='ROC fold %d (area = %0.2f)'\n",
    "                   % (i+1, roc_auc))\n",
    "\n",
    "plt.plot([0, 1],\n",
    "         [0, 1],\n",
    "         linestyle='--',\n",
    "         color=(0.6, 0.6, 0.6),\n",
    "         label='Random guessing')\n",
    "\n",
    "mean_tpr /= len(cv)\n",
    "mean_tpr[-1] = 1.0\n",
    "mean_auc = auc(mean_fpr, mean_tpr)\n",
    "plt.plot(mean_fpr, mean_tpr, 'k--',\n",
    "         label='Mean ROC (area = %0.2f)' % mean_auc, lw=2)\n",
    "plt.plot([0, 0, 1],\n",
    "         [0, 1, 1],\n",
    "         linestyle=':',\n",
    "         color='black',\n",
    "         label='Perfect performance')\n",
    "\n",
    "plt.xlim([-0.05, 1.05])\n",
    "plt.ylim([-0.05, 1.05])\n",
    "plt.xlabel('False positive rate')\n",
    "plt.ylabel('True positive rate')\n",
    "plt.legend(loc=\"lower right\")\n",
    "\n",
    "plt.tight_layout()\n",
    "# plt.savefig('images/06_10.png', dpi=300)\n",
    "plt.show()"
   ]
  },
  {
   "cell_type": "code",
   "execution_count": null,
   "id": "83ecbb8a",
   "metadata": {},
   "outputs": [],
   "source": [
    "#多クラス分類の場合、上記のスコアリングはマイクロ平均とマクロ平均にデフォルトで切り替わる\n",
    "#one vs rest で二値分類の形になおして、各クラスごとにマイクロ平均出す、そこに必要に応じて重み付けしてマクロ平均出す"
   ]
  },
  {
   "cell_type": "code",
   "execution_count": 97,
   "id": "ba6e2707",
   "metadata": {},
   "outputs": [
    {
     "data": {
      "text/plain": [
       "0.8992443324937027"
      ]
     },
     "execution_count": 97,
     "metadata": {},
     "output_type": "execute_result"
    }
   ],
   "source": [
    "#不均衡データに対する対処方法。resampleメソッドを使う\n",
    "\n",
    "#不均衡データを人為的に作成\n",
    "#y=0(陰性)であるデータセット357個\n",
    "#y=1(陽性)であるデータセット212個→40個にまで削減して不均衡データにする\n",
    "X_umb = np.vstack((X[y==0],X[y==1][:40]))\n",
    "y_umb = np.hstack((y[y==0],y[y==1][:40]))\n",
    "\n",
    "#このような不均衡データであれば、全部y=0と予測すれば、accuracyは高く出る\n",
    "y_pred = np.zeros(y_umb.shape[0])\n",
    "print(accuracy_score(y_umb,y_pred))#全部neg予測、実質何も予測してないがaccuは高い"
   ]
  },
  {
   "cell_type": "code",
   "execution_count": 110,
   "id": "9ceb43a1",
   "metadata": {},
   "outputs": [
    {
     "name": "stdout",
     "output_type": "stream",
     "text": [
      "357\n",
      "0.5\n"
     ]
    }
   ],
   "source": [
    "#不均衡データは、当然モデルの学習にも悪影響を与える（多数派のラベルを予測しやすいモデルとなる）\n",
    "#不均衡データへの対策1.upsample/downsample\n",
    "\n",
    "from sklearn.utils import resample#resampleメソッド\n",
    "\n",
    "#y=1のデータ個数がy=0となるまで、y=1のデータを復元抽出させる\n",
    "X_upsampled, y_upsampled = resample(X_umb[y_umb==1],#resampleしたい対象ラベルのデータ(この場合、pos,y=1のデータを水増ししたい)\n",
    "                                    y_umb[y_umb==1],#同じくy\n",
    "                                    replace=True,\n",
    "                                    n_samples=X_umb[y_umb==0].shape[0],#negラベルの個数にまで、posラベルのデータ個数をかさ増し\n",
    "                                    random_state=96)\n",
    "print(X_upsampled.shape[0])\n",
    "\n",
    "#upsampleしたら、結合して、resampleしたデータを作る\n",
    "X_bal = np.vstack((X[y==0],X_upsampled))#y=0のX(n=357)に、y=1のX(n=357)を連結　完全に均衡データになる！\n",
    "y_bal = np.hstack((y[y==0],y_upsampled))\n",
    "\n",
    "#このような均衡データであれば、全部y=0と予測してもaccuは50%にしかならない\n",
    "y_pred = np.zeros(y_bal.shape[0])\n",
    "print(accuracy_score(y_bal,y_pred))"
   ]
  },
  {
   "cell_type": "code",
   "execution_count": null,
   "id": "05410d24",
   "metadata": {},
   "outputs": [],
   "source": []
  },
  {
   "cell_type": "code",
   "execution_count": null,
   "id": "1e1817c5",
   "metadata": {},
   "outputs": [],
   "source": []
  }
 ],
 "metadata": {
  "kernelspec": {
   "display_name": "Python 3 (ipykernel)",
   "language": "python",
   "name": "python3"
  },
  "language_info": {
   "codemirror_mode": {
    "name": "ipython",
    "version": 3
   },
   "file_extension": ".py",
   "mimetype": "text/x-python",
   "name": "python",
   "nbconvert_exporter": "python",
   "pygments_lexer": "ipython3",
   "version": "3.9.12"
  }
 },
 "nbformat": 4,
 "nbformat_minor": 5
}

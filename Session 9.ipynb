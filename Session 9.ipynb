{
 "cells": [
  {
   "cell_type": "code",
   "execution_count": 5,
   "id": "ed5078ee",
   "metadata": {},
   "outputs": [],
   "source": [
    "#SQLite3について学ぶ\n",
    "import sqlite3\n",
    "import os\n",
    "import pandas as pd\n",
    "\n",
    "path = os.getcwd()\n",
    "os.chdir(os.path.join(path,'models/SQL3'))\n",
    "#os.chdir(\"C:/Users/unlea/Desktop/Python 3/ML_Master/models/SQL3\")\n",
    "#sqlite3のconnectメソッドでDBへの接続をおこなう\n",
    "#reviews.sqliteというsqliteDBファイルを作る\n",
    "conn = sqlite3.connect(\"reviews.sqlite\")\n",
    "\n",
    "#cursorメソッドを呼び出し、カーソル作成\n",
    "c = conn.cursor()\n",
    "\n",
    "#SQL command execution\n",
    "c.execute('DROP TABLE IF EXISTS review_db')\n",
    "c.execute('CREATE TABLE review_db (review TEXT, sentiment INTEGER, date TEXT)')\n",
    "\n",
    "#insert data to sql3 db writing SQL query\n",
    "example1 = 'I love this movie'\n",
    "c.execute(\"INSERT INTO review_db (review, sentiment, date) VALUES (?, ?, DATETIME('now'))\", (example1, 1))\n",
    "\n",
    "example2 = 'I disliked this movie'\n",
    "c.execute(\"INSERT INTO review_db (review, sentiment, date) VALUES (?, ?, DATETIME('now'))\", (example2, 0))\n",
    "\n",
    "#close connection to db\n",
    "conn.commit()\n",
    "conn.close()"
   ]
  },
  {
   "cell_type": "code",
   "execution_count": 4,
   "id": "a010915a",
   "metadata": {},
   "outputs": [
    {
     "name": "stdout",
     "output_type": "stream",
     "text": [
      "C:\\Users\\koko\\Desktop\\Python 3\\ML_Master\\models/sqlite3\n"
     ]
    }
   ],
   "source": [
    "#print(os.path.join(path,'models/sqlite3'))"
   ]
  },
  {
   "cell_type": "code",
   "execution_count": 6,
   "id": "197618b9",
   "metadata": {},
   "outputs": [
    {
     "name": "stdout",
     "output_type": "stream",
     "text": [
      "[('I love this movie', 1, '2022-08-07 02:16:47'), ('I disliked this movie', 0, '2022-08-07 02:16:47')]\n"
     ]
    }
   ],
   "source": [
    "#正しく値が書き込まれたかを確認する\n",
    "conn = sqlite3.connect('reviews.sqlite')\n",
    "c = conn.cursor()\n",
    "c.execute('SELECT * from review_db')\n",
    "\n",
    "#c.fetchall()でクエリの実行結果を取得し、resultsに格納\n",
    "result = c.fetchall()\n",
    "print(result)\n",
    "\n",
    "#close connection to db\n",
    "conn.commit()\n",
    "conn.close()"
   ]
  },
  {
   "cell_type": "code",
   "execution_count": 3,
   "id": "ccee98ad",
   "metadata": {},
   "outputs": [],
   "source": [
    "#Flaskを利用してWebアプリケーションを作成する手法を学ぶ\n"
   ]
  },
  {
   "cell_type": "code",
   "execution_count": null,
   "id": "4b34a85f",
   "metadata": {},
   "outputs": [],
   "source": []
  }
 ],
 "metadata": {
  "kernelspec": {
   "display_name": "Python 3 (ipykernel)",
   "language": "python",
   "name": "python3"
  },
  "language_info": {
   "codemirror_mode": {
    "name": "ipython",
    "version": 3
   },
   "file_extension": ".py",
   "mimetype": "text/x-python",
   "name": "python",
   "nbconvert_exporter": "python",
   "pygments_lexer": "ipython3",
   "version": "3.9.12"
  }
 },
 "nbformat": 4,
 "nbformat_minor": 5
}

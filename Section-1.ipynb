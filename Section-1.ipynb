{
 "cells": [
  {
   "cell_type": "code",
   "execution_count": 1,
   "id": "561901d8",
   "metadata": {},
   "outputs": [],
   "source": [
    "#単純パーセプトロンの実装(シンプルな1層のNNであり、分類タスクを行うことができる)\n",
    "import numpy as np\n",
    "import pandas as pd\n",
    "\n",
    "class Perceptron(object):\n",
    "    \"\"\"\n",
    "    params:\n",
    "    ---------------\n",
    "    eta: float\n",
    "    学習率であり、0から1の値をとる\n",
    "    \n",
    "    n_iter: int\n",
    "    EPOCH数\n",
    "    \n",
    "    random_state: int\n",
    "    乱数シード\n",
    "    \n",
    "    w_: 1次元配列\n",
    "    学習後の重み\n",
    "    \n",
    "    erros: list\n",
    "    各エポックでの誤答率\n",
    "     \"\"\"\n",
    "    \n",
    "    def __init__(self,eta=0.01,n_iter=50,random_state=1):\n",
    "        self.eta = eta\n",
    "        self.n_iter = n_iter\n",
    "        self.random_state = random_state\n",
    "     \n",
    "    \n",
    "    \n",
    "    def fit(self, X, y):\n",
    "        rgen = np.random.RandomState(self.random_state)\n",
    "        self.w_ = rgen.normal(loc=0.0, scale=0.01, size=1 + X.shape[1])\n",
    "        self.errors_ = []\n",
    "\n",
    "        for _ in range(self.n_iter):\n",
    "            errors = 0\n",
    "            for xi, target in zip(X, y):\n",
    "                update = self.eta * (target - self.predict(xi))\n",
    "                self.w_[1:] += update * xi\n",
    "                self.w_[0] += update\n",
    "                errors += int(update != 0.0)\n",
    "            self.errors_.append(errors)\n",
    "        return self\n",
    "    \n",
    "    def net_input(self,X):\n",
    "        \"\"\"総入力を計算\"\"\"\n",
    "        return np.dot(X, self.w_[1:]) + self.w_[0]\n",
    "    \n",
    "    def predict(self,X):\n",
    "        \"\"\"predict　1ステップ後のクラスラベルを返す\"\"\"\n",
    "        #self.net_input(X) >= 0.0 を条件式として、Trueなら1を、Falseなら-1をarrayとして返す\n",
    "        #単に線形結合した結果のスコアが0より大きいなら、予測ラベルとして1を、そうでないなら予測ラベル0を出力するということ\n",
    "        return np.where(self.net_input(X) >= 0.0, 1, -1)\n",
    "    "
   ]
  },
  {
   "cell_type": "code",
   "execution_count": 2,
   "id": "8bfb032c",
   "metadata": {},
   "outputs": [
    {
     "data": {
      "text/html": [
       "<div>\n",
       "<style scoped>\n",
       "    .dataframe tbody tr th:only-of-type {\n",
       "        vertical-align: middle;\n",
       "    }\n",
       "\n",
       "    .dataframe tbody tr th {\n",
       "        vertical-align: top;\n",
       "    }\n",
       "\n",
       "    .dataframe thead th {\n",
       "        text-align: right;\n",
       "    }\n",
       "</style>\n",
       "<table border=\"1\" class=\"dataframe\">\n",
       "  <thead>\n",
       "    <tr style=\"text-align: right;\">\n",
       "      <th></th>\n",
       "      <th>0</th>\n",
       "      <th>1</th>\n",
       "      <th>2</th>\n",
       "      <th>3</th>\n",
       "      <th>4</th>\n",
       "    </tr>\n",
       "  </thead>\n",
       "  <tbody>\n",
       "    <tr>\n",
       "      <th>0</th>\n",
       "      <td>5.1</td>\n",
       "      <td>3.5</td>\n",
       "      <td>1.4</td>\n",
       "      <td>0.2</td>\n",
       "      <td>Iris-setosa</td>\n",
       "    </tr>\n",
       "    <tr>\n",
       "      <th>1</th>\n",
       "      <td>4.9</td>\n",
       "      <td>3.0</td>\n",
       "      <td>1.4</td>\n",
       "      <td>0.2</td>\n",
       "      <td>Iris-setosa</td>\n",
       "    </tr>\n",
       "    <tr>\n",
       "      <th>2</th>\n",
       "      <td>4.7</td>\n",
       "      <td>3.2</td>\n",
       "      <td>1.3</td>\n",
       "      <td>0.2</td>\n",
       "      <td>Iris-setosa</td>\n",
       "    </tr>\n",
       "    <tr>\n",
       "      <th>3</th>\n",
       "      <td>4.6</td>\n",
       "      <td>3.1</td>\n",
       "      <td>1.5</td>\n",
       "      <td>0.2</td>\n",
       "      <td>Iris-setosa</td>\n",
       "    </tr>\n",
       "    <tr>\n",
       "      <th>4</th>\n",
       "      <td>5.0</td>\n",
       "      <td>3.6</td>\n",
       "      <td>1.4</td>\n",
       "      <td>0.2</td>\n",
       "      <td>Iris-setosa</td>\n",
       "    </tr>\n",
       "  </tbody>\n",
       "</table>\n",
       "</div>"
      ],
      "text/plain": [
       "     0    1    2    3            4\n",
       "0  5.1  3.5  1.4  0.2  Iris-setosa\n",
       "1  4.9  3.0  1.4  0.2  Iris-setosa\n",
       "2  4.7  3.2  1.3  0.2  Iris-setosa\n",
       "3  4.6  3.1  1.5  0.2  Iris-setosa\n",
       "4  5.0  3.6  1.4  0.2  Iris-setosa"
      ]
     },
     "execution_count": 2,
     "metadata": {},
     "output_type": "execute_result"
    }
   ],
   "source": [
    "#Irisデータセットを使い、単純パーセプトロンが分類を行えることを確認する\n",
    "import os\n",
    "import pandas as pd\n",
    "\n",
    "\n",
    "df = pd.read_csv('C:/Users/unlea/Desktop/Python 3/ML_Master/python-machine-learning-book-3rd-edition/ch02/iris.data', header=None)\n",
    "df.head()"
   ]
  },
  {
   "cell_type": "code",
   "execution_count": null,
   "id": "48148f45",
   "metadata": {},
   "outputs": [],
   "source": []
  },
  {
   "cell_type": "code",
   "execution_count": 3,
   "id": "cd5c6f2c",
   "metadata": {},
   "outputs": [
    {
     "data": {
      "text/plain": [
       "Text(0, 0.5, 'petal length(cm)')"
      ]
     },
     "execution_count": 3,
     "metadata": {},
     "output_type": "execute_result"
    },
    {
     "data": {
      "image/png": "[encoded data removed]",
      "text/plain": [
       "<Figure size 432x288 with 1 Axes>"
      ]
     },
     "metadata": {
      "needs_background": "light"
     },
     "output_type": "display_data"
    }
   ],
   "source": [
    "import matplotlib.pyplot as plt\n",
    "\n",
    "#Xを定義\n",
    "#1-100行目の目的変数抽出\n",
    "X = df.iloc[0:100,[0,2]].values\n",
    "\n",
    "#yを定義\n",
    "#1-100行目の目的変数抽出\n",
    "y = df.iloc[0:100,4].values\n",
    "y = np.where(y=='Iris-setosa',-1,1)\n",
    "\n",
    "#Setosaのplot\n",
    "plt.scatter(X[:50,0],X[:50,1],color='blue',marker='x')\n",
    "\n",
    "#cersicolorのplot\n",
    "plt.scatter(X[50:100,0],X[50:100,1],color='red',marker='x')\n",
    "\n",
    "#writing label\n",
    "plt.xlabel('sepal length (cm)')\n",
    "plt.ylabel('petal length(cm)')\n",
    "\n",
    "#分類結果をみると、二次元上では、線形で十分分離が可能"
   ]
  },
  {
   "cell_type": "code",
   "execution_count": 4,
   "id": "7546e432",
   "metadata": {},
   "outputs": [
    {
     "data": {
      "image/png": "[encoded data removed]",
      "text/plain": [
       "<Figure size 432x288 with 1 Axes>"
      ]
     },
     "metadata": {
      "needs_background": "light"
     },
     "output_type": "display_data"
    }
   ],
   "source": [
    "#作成したパーセプトロンを訓練する。\n",
    "ppn = Perceptron(eta=0.1,n_iter=10)\n",
    "\n",
    "ppn.fit(X,y)\n",
    "\n",
    "#Epochと誤分類の関係性を示すグラフをplot\n",
    "plt.plot(range(1, len(ppn.errors_) + 1), ppn.errors_)\n",
    "\n",
    "plt.xlabel('epochs')\n",
    "plt.ylabel('num of errors')\n",
    "plt.show()"
   ]
  },
  {
   "cell_type": "code",
   "execution_count": 5,
   "id": "81e35378",
   "metadata": {},
   "outputs": [
    {
     "name": "stderr",
     "output_type": "stream",
     "text": [
      "C:\\Users\\unlea\\AppData\\Local\\Temp\\ipykernel_20156\\1120327749.py:34: UserWarning: You passed a edgecolor/edgecolors ('black') for an unfilled marker ('x').  Matplotlib is ignoring the edgecolor in favor of the facecolor.  This behavior may change in the future.\n",
      "  plt.scatter(x=X[y == cls, 0],\n"
     ]
    },
    {
     "data": {
      "image/png": "[encoded data removed]",
      "text/plain": [
       "<Figure size 432x288 with 1 Axes>"
      ]
     },
     "metadata": {
      "needs_background": "light"
     },
     "output_type": "display_data"
    }
   ],
   "source": [
    "#決定境界を可視化する\n",
    "from matplotlib.colors import ListedColormap\n",
    "\n",
    "def plot_decision_boundary(X,y,clf,resolution=0.02):\n",
    "    \n",
    "    #マーカーとカラーマップ準備\n",
    "    markers = ('s','x','o','^','v')\n",
    "    colors = ('cyan','lightgreen','red','yellow','black')\n",
    "    cmap = ListedColormap(colors[:len(np.unique(y))])\n",
    "    \n",
    "    #決定領域をプロットするために、X1とX2の最大値と最小値をそれぞれだしておく\n",
    "    x1_min, x1_max = X[:,0].min()-1, X[:,0].max()+1\n",
    "    x2_min, x2_max = X[:,1].min()-1, X[:,1].max()+1\n",
    "    \n",
    "    #grid point(x,yの座標軸)\n",
    "    xx1, xx2 = np.meshgrid(np.arange(x1_min, x1_max, resolution),\n",
    "                           np.arange(x2_min, x2_max, resolution))\n",
    "    \n",
    "    #各特徴量を1次元配列にしてから予測する\n",
    "    #np.array(xx1,xx2)だと、ヨコ方向にX1,X2がだーっと並んでいるので\n",
    "    #転置してあげて、特徴量行列にした上でpredictに投入\n",
    "    Z = clf.predict(np.array([xx1.ravel(),xx2.ravel()]).T)\n",
    "    \n",
    "    #predict結果は、特徴量X1と同じ形状にしておく\n",
    "    Z = Z.reshape(xx1.shape)\n",
    "    \n",
    "    #等高線\n",
    "    plt.contourf(xx1,xx2,Z,alpha=0.5,cmap=cmap)\n",
    "    \n",
    "    plt.xlim(xx1.min(),xx1.max())\n",
    "    plt.ylim(xx2.min(),xx2.max())\n",
    "    \n",
    "    for i,cls in enumerate(np.unique(y)):\n",
    "        plt.scatter(x=X[y == cls, 0],\n",
    "                    y=X[y == cls, 1],\n",
    "                    alpha=0.5,\n",
    "                    c='black',\n",
    "                    marker=markers[i],\n",
    "                    edgecolor='black')\n",
    "    \n",
    "\n",
    "plot_decision_boundary(X,y,ppn,resolution=0.02)"
   ]
  },
  {
   "cell_type": "code",
   "execution_count": 6,
   "id": "d969236e",
   "metadata": {},
   "outputs": [],
   "source": [
    "#ADALINE\n",
    "#活性化関数としては恒等関数を用い、損失関数に-Σ(y(i) - WtX(i))*Xkを使うのが特徴\n",
    "class AdaLineGD(object):\n",
    "    \n",
    "    def __init__(self,eta=0.01,n_iter=100,random_state=1):\n",
    "        self.eta = eta\n",
    "        self.n_iter = n_iter\n",
    "        self.random_state = random_state\n",
    "        \n",
    "        \n",
    "    def fit(self, X, y):\n",
    "        #単純パーセプトロンでやったのと基本的には同じだが\n",
    "        #重みの更新の部分は異なるので、そこはコメント入れている\n",
    "        \n",
    "        rgen = np.random.RandomState(self.random_state)\n",
    "        \n",
    "        self.w_ = rgen.normal(loc=0.0, scale=0.01, size = X.shape[1] + 1)\n",
    "        \n",
    "        self.cost_ = []\n",
    "        \n",
    "        for i in range(self.n_iter):\n",
    "            net_input = self.net_input(X)\n",
    "            \"\"\"\n",
    "            activationメソッドは単なる恒等関数でしかないため、\n",
    "            ここでは、self.activation()の機能は実装せず、単にnet_inputが\n",
    "            outputになる。シグモイドの場合は,activationにシグモイド関数を使うことになる\n",
    "            \"\"\"\n",
    "            output = self.activation(net_input)\n",
    "            \n",
    "            #誤差の計算(yi - φ(Zi))の部分\n",
    "            #SSEの形では計算しない。なぜなら単純なyi-ziの計算部分が、損失関数の微分結果に含まれるため。\n",
    "            error = (y - output)\n",
    "            \n",
    "            #重み[w1.....wm]の更新\n",
    "            #重みのウェイト部分は,以下の式によって更新される\n",
    "            \"\"\"\n",
    "            δJ/δwj = -Σ(yi-zi)*xk(i)\n",
    "            Wnew = Wold - γ(δJ/δwj) より\n",
    "            Wnew = Wold + γ* np.dot((yi-zi),xk(i))\n",
    "            \n",
    "            \"\"\"\n",
    "            self.w_[1:] += self.eta * (np.dot(X.T,error))\n",
    "            \n",
    "            #バイアスw0の更新\n",
    "            \"\"\"\n",
    "            δJ/δwj = Σ(yi-zi)*-1より\n",
    "            Wnew = Wold - γ(δJ/δwj) より\n",
    "            Wnew = Wold + γ* (yi-zi).sum()\n",
    "            \n",
    "            \"\"\"\n",
    "            self.w_[0] += self.eta * error.sum()\n",
    "            \n",
    "            #コスト関数の計算(SSE): 1/2Σ(yi-zi)^2\n",
    "            cost = (error**2).sum() / 2.0\n",
    "            \n",
    "            #更新後の重みでの、誤差を格納\n",
    "            self.cost_.append(cost)\n",
    "            \n",
    "        return self\n",
    "\n",
    "    def net_input(self,X):\n",
    "        #線形重み和を出力\n",
    "        return np.dot(X,self.w_[1:]) + self.w_[0]\n",
    "\n",
    "    def activation(self,X):\n",
    "        #activation関数。ADALINEは活性化関数は恒等関数なのでただ線形重み和を返すだけ\n",
    "        return X\n",
    "\n",
    "    def predict(self,X):\n",
    "        #未知のXに対するyの予測値を返す。\n",
    "        return np.where(self.activation(self.net_input(X)) >= 0.0, 1.0, -1.0)\n",
    "    "
   ]
  },
  {
   "cell_type": "code",
   "execution_count": 7,
   "id": "2d8e0be1",
   "metadata": {},
   "outputs": [
    {
     "name": "stderr",
     "output_type": "stream",
     "text": [
      "C:\\Users\\unlea\\AppData\\Local\\Temp\\ipykernel_20156\\2813935161.py:54: RuntimeWarning: overflow encountered in square\n",
      "  cost = (error**2).sum() / 2.0\n",
      "C:\\Users\\unlea\\anaconda3\\lib\\site-packages\\numpy\\core\\_methods.py:48: RuntimeWarning: overflow encountered in reduce\n",
      "  return umr_sum(a, axis, dtype, out, keepdims, initial, where)\n"
     ]
    },
    {
     "data": {
      "image/png": "[encoded data removed]",
      "text/plain": [
       "<Figure size 864x360 with 2 Axes>"
      ]
     },
     "metadata": {
      "needs_background": "light"
     },
     "output_type": "display_data"
    }
   ],
   "source": [
    "import seaborn as sns\n",
    "#作成したADALINE学習器が、コストが0になるように収束するのかを確認する\n",
    "fig,axes = plt.subplots(1,2,figsize=(12,5))\n",
    "\n",
    "eta = [0.01,0.0001]\n",
    "\n",
    "#Epochとコストの関係性を表すグラフを描画する\n",
    "for i,ax in enumerate(axes.flatten()):\n",
    "    #勾配降下法による、ADALINEの学習@学習率0.01\n",
    "    ADA = AdaLineGD(eta=eta[i],n_iter=100,random_state=1).fit(X,y)\n",
    "    sns.lineplot(x=range(len(ADA.cost_)), y=np.log10(ADA.cost_),ax=ax,marker='o',color='g')\n",
    "    ax.set_xlabel('EPOCH')\n",
    "    ax.set_ylabel('COST')\n",
    "#学習率が大きすぎると、Wの大域的な最適解に収束しないため、いつまでたっても、望ましい方向に\n",
    "#重みの勾配を下ることは出来ず、結局EPOCHが増えるにつれ損失も大きくなってしまう。\n",
    "\n",
    "#適切な学習率(0.0001)では、ただしくコストが0に向かって収束している。\n",
    "#ただし、学習率が小さい場合、それに応じてEPOCHの回数を大きくしなければならないこともわかる"
   ]
  },
  {
   "cell_type": "code",
   "execution_count": 8,
   "id": "95a95a94",
   "metadata": {},
   "outputs": [],
   "source": [
    "#より早い収束のためには、データを標準化することが必要となる\n",
    "#StandardScaleを行う\n",
    "X_std = X.copy()\n",
    "\n",
    "#各列を、標準化する\n",
    "X_std[:,0] = (X[:,0] - np.mean(X[:,0]))/X[:,0].std()\n",
    "X_std[:,1] = (X[:,1] - np.mean(X[:,1]))/X[:,1].std()"
   ]
  },
  {
   "cell_type": "code",
   "execution_count": 9,
   "id": "13b13e74",
   "metadata": {},
   "outputs": [
    {
     "name": "stderr",
     "output_type": "stream",
     "text": [
      "C:\\Users\\unlea\\AppData\\Local\\Temp\\ipykernel_20156\\2813935161.py:54: RuntimeWarning: overflow encountered in square\n",
      "  cost = (error**2).sum() / 2.0\n",
      "C:\\Users\\unlea\\anaconda3\\lib\\site-packages\\numpy\\core\\_methods.py:48: RuntimeWarning: overflow encountered in reduce\n",
      "  return umr_sum(a, axis, dtype, out, keepdims, initial, where)\n",
      "C:\\Users\\unlea\\AppData\\Local\\Temp\\ipykernel_20156\\1120327749.py:34: UserWarning: You passed a edgecolor/edgecolors ('black') for an unfilled marker ('x').  Matplotlib is ignoring the edgecolor in favor of the facecolor.  This behavior may change in the future.\n",
      "  plt.scatter(x=X[y == cls, 0],\n",
      "No artists with labels found to put in legend.  Note that artists whose label start with an underscore are ignored when legend() is called with no argument.\n"
     ]
    },
    {
     "data": {
      "image/png": "[encoded data removed]",
      "text/plain": [
       "<Figure size 432x288 with 1 Axes>"
      ]
     },
     "metadata": {
      "needs_background": "light"
     },
     "output_type": "display_data"
    }
   ],
   "source": [
    "#標準化したデータで改めて、ADALINEGDを試してみると、、\n",
    "ADA2 = AdaLineGD(eta=0.01,n_iter=100,random_state=1).fit(X,y)\n",
    "ADA2.fit(X_std,y)\n",
    "\n",
    "#決定境界のプロット\n",
    "plot_decision_boundary(X_std,y,ADA2)\n",
    "plt.title('ADALineGD w/ stadardized data')\n",
    "plt.xlabel('standardized sepal length')\n",
    "plt.ylabel('standardized petal length')\n",
    "plt.legend(loc='upper right')\n",
    "plt.tight_layout()\n",
    "plt.show()\n"
   ]
  },
  {
   "cell_type": "code",
   "execution_count": 10,
   "id": "2da1225a",
   "metadata": {},
   "outputs": [
    {
     "data": {
      "image/png": "[encoded data removed]",
      "text/plain": [
       "<Figure size 432x288 with 1 Axes>"
      ]
     },
     "metadata": {
      "needs_background": "light"
     },
     "output_type": "display_data"
    }
   ],
   "source": [
    "#Epochとコストの関係性をplot\n",
    "plt.plot(range(len(ADA2.cost_)),ADA2.cost_,marker='x')\n",
    "plt.title('ADALINE: EPOCH vs LOSS')\n",
    "plt.xlabel('EPOCH')\n",
    "plt.ylabel('LOSS')\n",
    "plt.tight_layout()\n",
    "plt.show()"
   ]
  },
  {
   "cell_type": "code",
   "execution_count": 11,
   "id": "adf3106c",
   "metadata": {},
   "outputs": [],
   "source": [
    "#Adalineを、学習ごとに全データの勾配を求める勾配降下法ではなく、細かいバッチ単位で学習を行う\n",
    "#SGDの手法で重みを更新する\n",
    "\n",
    "import numpy as np\n",
    "\n",
    "class AdalineSGD(object):\n",
    "    \"\"\"\n",
    "    params:\n",
    "    ------------\n",
    "    eta: float\n",
    "    学習率\n",
    "    \n",
    "    n_iter:int\n",
    "    EPOCH数\n",
    "    \n",
    "    shuffle: bool(default=True)\n",
    "    各バッチで学習データをランダムに取り出すかどうか\n",
    "    （取り出さなければいけないのでdefault=True）\n",
    "    \n",
    "    random_state: int\n",
    "    乱数シード\n",
    "    \n",
    "    \"\"\"\n",
    "    def __init__(self,eta=0.01,n_iter=100,shuffle=True,random_state=1):\n",
    "        self.eta = eta\n",
    "        self.n_iter = n_iter\n",
    "        self.shuffle = shuffle\n",
    "        self.random_state = random_state\n",
    "        #重みの初期化フラグはFalseに設定する\n",
    "        self.w_initialized = False\n",
    "        \n",
    "    def fit(self,X,y):\n",
    "        \"\"\"fit method\n",
    "        params:\n",
    "        -----------------------\n",
    "        X: traindata\n",
    "        shape = {n_examples, n_features}\n",
    "        y: targetdata\n",
    "        shape = {n_examples,1}\n",
    "        -----------------------\n",
    "        return:\n",
    "        self: object\n",
    "        -----------------------\n",
    "        \"\"\"\n",
    "        #重みベクトル生成\n",
    "        self._initialize_weights(X.shape[1])#_initialize_weights関数で生成する\n",
    "        \n",
    "        #コストを格納するリスト\n",
    "        self.cost_ = []\n",
    "        \n",
    "        #訓練回数分データを反復する\n",
    "        for i in range(self.n_iter):\n",
    "            #self.shuffle=Trueなら訓練データをシャッフル\n",
    "            if self.shuffle:\n",
    "                X,y = self._shuffle(X,y)\n",
    "                \n",
    "            #各訓練データのコストを格納するリストをつくる\n",
    "            cost = []\n",
    "            \n",
    "            #各訓練データに対する計算\n",
    "            for xi,target in zip(X,y):\n",
    "                #特徴量xiと目的変数を使い、重み更新&コストを計算し、costに格納する\n",
    "                cost.append(self._update_weights(xi,target))\n",
    "                \n",
    "            #訓練データの平均コストを計算する\n",
    "            avg_cost = np.sum(cost)/len(y)\n",
    "            \n",
    "            #self.cost_に平均コストを格納\n",
    "            self.cost_.append(avg_cost)\n",
    "            \n",
    "        return self#学習した自クラスを返す\n",
    "    \n",
    "    def partial_fit(self,X,y):\n",
    "        \"\"\"オンライン学習を行う場合、重みを再度初期化することなく、訓練データに適合させる\"\"\"\n",
    "        #重みが初期化されていない場合、初期化する\n",
    "        if not self.w_initialized:\n",
    "            self._initialize_weights(X.shape[1])\n",
    "            \n",
    "        if y.ravel().shape[1] >= 2:\n",
    "            for xi,target in zip(X,y):\n",
    "                self._update_weights(xi,target)\n",
    "                \n",
    "        else:\n",
    "            self._update_weights(xi,target)\n",
    "            \n",
    "    def _shuffle(self,X,y):\n",
    "        \"\"\"訓練データをシャッフル\"\"\"\n",
    "        #np.permutation(int or array)\n",
    "        #xが整数(int)の場合は、np.arange(x)の配列をランダムに並べ替える。\n",
    "        #xが配列の場合は、その配列をコピーして要素をランダムに並べ替える。\n",
    "        #range(len(y))をランダムに並び替えることで、ランダムに並び替えられたindexを取得している\n",
    "        r = self.rgen.permutation(len(y))\n",
    "        \n",
    "        return X[r],y[r]\n",
    "        \n",
    "    def _initialize_weights(self,m):\n",
    "        \"\"\"重みを小さい乱数で初期化\"\"\"\n",
    "        self.rgen = np.random.RandomState(self.random_state)\n",
    "        #形状(1 , m+1)の配列であって、avg=0.0,sd=0.01に従うガウス分布から乱数を生成する\n",
    "        #形状をm+1としているのは、バイアスのためである\n",
    "        self.w_ = self.rgen.normal(loc=0.0,scale=0.01,size=1+m)\n",
    "        #この関数を実行したら、self.w_initializedにTrueフラグを渡す。上で識別に使う\n",
    "        self.w_initialized = True\n",
    "        \n",
    "    def _update_weights(self,xi,target):\n",
    "        \"\"\"重みの更新\"\"\"\n",
    "        #活性化関数の出力を計算\n",
    "        output = self.activation(self.net_input(xi))\n",
    "        #誤差の計算\n",
    "        error = (target - output)\n",
    "        #バイアス以外の重みの更新\n",
    "        self.w_[1:] += self.eta * np.dot(xi.T,error)\n",
    "        #バイアスの更新\n",
    "        self.w_[0] += self.eta * error\n",
    "        #コスト計算(1/2 * Error**2)\n",
    "        cost = 0.5 * error**2\n",
    "        #コストを返す\n",
    "        return cost\n",
    "    \n",
    "    def net_input(self,X):\n",
    "        \"\"\"単なるAffine\"\"\"\n",
    "        return np.dot(X, self.w_[1:]) + self.w_[0]\n",
    "    \n",
    "    def activation(self,X):\n",
    "        \"\"\"活性化関数だが、恒等関数なのでなにもせずにXをかえすだけ\"\"\"\n",
    "        return X\n",
    "    \n",
    "    def predict(self,X):\n",
    "        \"\"\"prediction\"\"\"\n",
    "        return np.where(self.activation(self.net_input(X)) >= 0.0, 1.0, -1.0)"
   ]
  },
  {
   "cell_type": "code",
   "execution_count": 12,
   "id": "93bbe566",
   "metadata": {},
   "outputs": [
    {
     "name": "stderr",
     "output_type": "stream",
     "text": [
      "C:\\Users\\unlea\\AppData\\Local\\Temp\\ipykernel_20156\\1120327749.py:34: UserWarning: You passed a edgecolor/edgecolors ('black') for an unfilled marker ('x').  Matplotlib is ignoring the edgecolor in favor of the facecolor.  This behavior may change in the future.\n",
      "  plt.scatter(x=X[y == cls, 0],\n",
      "No artists with labels found to put in legend.  Note that artists whose label start with an underscore are ignored when legend() is called with no argument.\n"
     ]
    },
    {
     "data": {
      "image/png": "[encoded data removed]",
      "text/plain": [
       "<Figure size 432x288 with 1 Axes>"
      ]
     },
     "metadata": {
      "needs_background": "light"
     },
     "output_type": "display_data"
    }
   ],
   "source": [
    "ada3 = AdalineSGD(n_iter=50,eta=0.01,random_state=0)\n",
    "ada3.fit(X_std,y)\n",
    "#決定境界の描画\n",
    "plot_decision_boundary(X_std,y,ada3,resolution=0.02)\n",
    "plt.title('SGD Adaline')\n",
    "plt.xlabel('sepal length(sd)')\n",
    "plt.ylabel('petal length(sd)')\n",
    "plt.legend(loc='upper right')\n",
    "plt.show()"
   ]
  },
  {
   "cell_type": "code",
   "execution_count": 13,
   "id": "e88e0a41",
   "metadata": {},
   "outputs": [
    {
     "name": "stderr",
     "output_type": "stream",
     "text": [
      "No artists with labels found to put in legend.  Note that artists whose label start with an underscore are ignored when legend() is called with no argument.\n"
     ]
    },
    {
     "data": {
      "text/plain": [
       "<matplotlib.legend.Legend at 0x1be5e82bee0>"
      ]
     },
     "execution_count": 13,
     "metadata": {},
     "output_type": "execute_result"
    },
    {
     "data": {
      "image/png": "[encoded data removed]",
      "text/plain": [
       "<Figure size 432x288 with 1 Axes>"
      ]
     },
     "metadata": {
      "needs_background": "light"
     },
     "output_type": "display_data"
    }
   ],
   "source": [
    "#Epochとコストの減少度合いを描画する\n",
    "sns.lineplot(x=range(len(ada3.cost_)),y=ada3.cost_)\n",
    "plt.title('EPOCH vs loss')\n",
    "plt.xlabel('EPOCH')\n",
    "plt.ylabel('avg cost')\n",
    "plt.legend()"
   ]
  },
  {
   "cell_type": "markdown",
   "id": "6733365e",
   "metadata": {},
   "source": [
    "データ全体をEPOCHごとにみて重みを更新するのではなく<br>\n",
    "１つのデータから成るバッチをシャッフルして、都度都度重みを更新(SGD)で学習した場合、早く収束する<br>\n",
    "→学習データ全体をループするたびに重みを更新するのではなく、バッチの学習を終えるたびに重みを更新するから、重みの更新頻度が高いため"
   ]
  },
  {
   "cell_type": "code",
   "execution_count": null,
   "id": "945bb3c8",
   "metadata": {},
   "outputs": [],
   "source": []
  }
 ],
 "metadata": {
  "kernelspec": {
   "display_name": "Python 3 (ipykernel)",
   "language": "python",
   "name": "python3"
  },
  "language_info": {
   "codemirror_mode": {
    "name": "ipython",
    "version": 3
   },
   "file_extension": ".py",
   "mimetype": "text/x-python",
   "name": "python",
   "nbconvert_exporter": "python",
   "pygments_lexer": "ipython3",
   "version": "3.9.12"
  }
 },
 "nbformat": 4,
 "nbformat_minor": 5
}

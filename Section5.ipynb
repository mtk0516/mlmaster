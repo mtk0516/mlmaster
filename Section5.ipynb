{
 "cells": [
  {
   "cell_type": "code",
   "execution_count": 1,
   "id": "18af316b",
   "metadata": {},
   "outputs": [],
   "source": [
    "import pandas as pd\n",
    "df_wine = pd.read_csv('C:/Users/Administrator/Desktop/Python 3/ML_Master/python-machine-learning-book-3rd-edition/ch05/wine.data',header=None)\n",
    "\n",
    "from sklearn.model_selection import train_test_split\n",
    "from sklearn.preprocessing import StandardScaler\n",
    "\n",
    "#X,yをそれぞれ定義\n",
    "X,y = df_wine.iloc[:,1:],df_wine.iloc[:,0]\n",
    "\n",
    "#分割\n",
    "X_train,X_test,y_train,y_test = train_test_split(X,y,test_size=.3,stratify=y,random_state=0)\n",
    "\n",
    "#標準化\n",
    "SC = StandardScaler()\n",
    "\n",
    "X_train_std = SC.fit_transform(X_train)\n",
    "X_test_std = SC.transform(X_test)\n",
    "\n"
   ]
  },
  {
   "cell_type": "code",
   "execution_count": 2,
   "id": "e68d7eec",
   "metadata": {},
   "outputs": [
    {
     "name": "stdout",
     "output_type": "stream",
     "text": [
      "[4.84274532 2.41602459 1.54845825 0.96120438 0.84166161 0.6620634\n",
      " 0.51828472 0.34650377 0.3131368  0.10754642 0.21357215 0.15362835\n",
      " 0.1808613 ]\n",
      "(13, 13)\n"
     ]
    }
   ],
   "source": [
    "import numpy as np\n",
    "cov_mat = np.cov(X_train_std.T)#np.cov()で共分散行列を作る\n",
    "\n",
    "#固有値と固有ベクトルを取得\n",
    "eigenval,eigenvec = np.linalg.eig(cov_mat)#np.linalg.eig\n",
    "\n",
    "print(eigenval)#固有値は１３個できる（元が１３次元なので）\n",
    "print(eigenvec.shape)#固有べくとるは、13次元のものが１３個できる"
   ]
  },
  {
   "cell_type": "code",
   "execution_count": 3,
   "id": "dd0c7675",
   "metadata": {},
   "outputs": [
    {
     "data": {
      "text/plain": [
       "<matplotlib.legend.Legend at 0x17dbb573548>"
      ]
     },
     "execution_count": 3,
     "metadata": {},
     "output_type": "execute_result"
    },
    {
     "data": {
      "image/png": "[encoded data removed]",
      "text/plain": [
       "<Figure size 432x288 with 1 Axes>"
      ]
     },
     "metadata": {
      "needs_background": "light"
     },
     "output_type": "display_data"
    }
   ],
   "source": [
    "#共分散行列の固有値の合計を計算\n",
    "tot = sum(eigenval)#共分散行列の固有値の合計は、もとの行列の特徴量の分散の和に等しくなる\n",
    "\n",
    "#分散説明率を計算\n",
    "#固有値が大きい順に、固有ベクトルを取り出して、主成分としている\n",
    "#ある固有値/全固有値和、で、PCA-nの分散寄与率が判明する\n",
    "var_exp = [(i/tot) for i in sorted(eigenval,reverse=True)]#降順\n",
    "\n",
    "#分散の累積和を取得\n",
    "cumsum_varexp = np.cumsum(var_exp)\n",
    "\n",
    "import matplotlib.pyplot as plt\n",
    "\n",
    "plt.bar(range(1,14),cumsum_varexp,alpha=0.5,align='center',label='cumulative var exp ratio')\n",
    "plt.legend()"
   ]
  },
  {
   "cell_type": "code",
   "execution_count": 4,
   "id": "6d2c9b2e",
   "metadata": {},
   "outputs": [],
   "source": [
    "#(固有値、固有ベクトル)の対タプルからなるリストを作成\n",
    "#そのペアを、固有値が大きいものから並び替える\n",
    "# Make a list of (eigenvalue, eigenvector) tuples\n",
    "eigen_pairs = [(np.abs(eigenval[i]), eigenvec[:, i])\n",
    "               for i in range(len(eigenval))]\n",
    "\n",
    "# Sort the (eigenvalue, eigenvector) tuples from high to low\n",
    "eigen_pairs.sort(key=lambda k:k[0], reverse=True)"
   ]
  },
  {
   "cell_type": "code",
   "execution_count": 5,
   "id": "da5cd34e",
   "metadata": {},
   "outputs": [
    {
     "name": "stdout",
     "output_type": "stream",
     "text": [
      "Matrix W:\n",
      " [[-0.13724218  0.50303478]\n",
      " [ 0.24724326  0.16487119]\n",
      " [-0.02545159  0.24456476]\n",
      " [ 0.20694508 -0.11352904]\n",
      " [-0.15436582  0.28974518]\n",
      " [-0.39376952  0.05080104]\n",
      " [-0.41735106 -0.02287338]\n",
      " [ 0.30572896  0.09048885]\n",
      " [-0.30668347  0.00835233]\n",
      " [ 0.07554066  0.54977581]\n",
      " [-0.32613263 -0.20716433]\n",
      " [-0.36861022 -0.24902536]\n",
      " [-0.29669651  0.38022942]]\n"
     ]
    }
   ],
   "source": [
    "#固有値が大きい順に、２つの固有ベクトルを取り出してみた\n",
    "w = np.hstack((eigen_pairs[0][1].reshape(-1,1),eigen_pairs[1][1].reshape(-1,1)))\n",
    "print('Matrix W:\\n', w)\n",
    "#これがそっくりそのまま、２次元に元の特徴量点を射影する射影行列Wになる"
   ]
  },
  {
   "cell_type": "code",
   "execution_count": null,
   "id": "1bcb6dfb",
   "metadata": {},
   "outputs": [],
   "source": []
  },
  {
   "cell_type": "code",
   "execution_count": 6,
   "id": "dfa75d74",
   "metadata": {},
   "outputs": [
    {
     "data": {
      "text/plain": [
       "array([[ 2.38299011,  0.45458499],\n",
       "       [-1.96578183,  1.65376939],\n",
       "       [-2.53907598,  1.02909066],\n",
       "       [-1.43010776,  0.6024011 ],\n",
       "       [ 3.14147227,  0.66214979],\n",
       "       [ 0.50253552, -2.08907131],\n",
       "       [ 0.04867722, -2.27536044],\n",
       "       [ 2.47888989, -0.08603318],\n",
       "       [ 2.01900259, -1.3538719 ],\n",
       "       [ 0.75156583, -2.55367947],\n",
       "       [ 0.72268915, -1.18404391],\n",
       "       [-3.00366211,  0.94626934],\n",
       "       [ 2.57518878, -1.0697549 ],\n",
       "       [ 3.73151104,  1.01968876],\n",
       "       [-1.12276518,  0.13877   ],\n",
       "       [ 2.85996853,  2.28819559],\n",
       "       [-0.74717125, -3.21746061],\n",
       "       [-1.58427878,  0.16048055],\n",
       "       [ 3.38887101,  2.11550689],\n",
       "       [ 3.15405473,  0.54233966],\n",
       "       [-1.28036506, -1.72926871],\n",
       "       [-1.71438911,  0.71745249],\n",
       "       [-1.55040291, -1.7580591 ],\n",
       "       [ 1.10984489, -1.20480693],\n",
       "       [-0.69108418, -1.71385374],\n",
       "       [-2.086036  , -1.68453671],\n",
       "       [ 2.90393456,  1.95258805],\n",
       "       [-2.07635784,  1.47183304],\n",
       "       [-1.74756185, -1.25842546],\n",
       "       [ 2.59424456, -0.1056037 ],\n",
       "       [-2.50372355,  0.70412212],\n",
       "       [-2.19448402,  2.18657552],\n",
       "       [ 3.91634534,  0.16136475],\n",
       "       [-1.11739618,  0.51921086],\n",
       "       [-0.89996804, -2.04759575],\n",
       "       [-1.71469178,  0.61392169],\n",
       "       [-2.48581303,  0.76839561],\n",
       "       [-0.76080562, -1.67615627],\n",
       "       [ 2.9265371 ,  0.18854741],\n",
       "       [ 2.94423716,  1.34812388],\n",
       "       [-2.38993219,  1.0848074 ],\n",
       "       [ 2.63885049,  0.75274937],\n",
       "       [ 2.51009031,  2.25237953],\n",
       "       [ 3.65248086,  1.74839925],\n",
       "       [-2.65169609,  1.01997476],\n",
       "       [ 0.52544559, -2.13528249],\n",
       "       [ 2.70197573,  0.56476307],\n",
       "       [ 3.18414708,  2.58094695],\n",
       "       [ 1.12517041, -1.85054449],\n",
       "       [ 2.92366519,  0.41699915],\n",
       "       [-1.96122314, -1.28613661],\n",
       "       [ 0.54473673, -1.07897226],\n",
       "       [-0.77030308, -1.93386815],\n",
       "       [-1.16670455,  0.00489815],\n",
       "       [-1.36475309, -2.13572269],\n",
       "       [ 0.43563732, -2.56929607],\n",
       "       [ 2.96191745,  1.91091009],\n",
       "       [ 2.83609557,  0.65386032],\n",
       "       [ 1.90402089, -0.35296542],\n",
       "       [-2.4858391 , -0.21308835],\n",
       "       [-2.16575568,  1.1468486 ],\n",
       "       [ 0.00669776, -0.94337624],\n",
       "       [ 1.06560181,  3.31221025],\n",
       "       [ 2.13117911,  1.90551304],\n",
       "       [ 1.53543483, -1.50854979],\n",
       "       [-2.66783112,  1.75933599],\n",
       "       [ 0.57279998, -2.7511383 ],\n",
       "       [-0.70710916, -2.43798549],\n",
       "       [-0.99606577, -1.4772411 ],\n",
       "       [-2.67324153,  1.35779609],\n",
       "       [-2.36367378,  1.66537927],\n",
       "       [-0.39171875,  0.13747499],\n",
       "       [-2.98908845,  2.16983165],\n",
       "       [-1.91822539,  1.60141809],\n",
       "       [ 2.3114458 ,  0.207123  ],\n",
       "       [-1.06050503,  0.6004608 ],\n",
       "       [-2.74858609, -0.29016054],\n",
       "       [ 2.26650077,  2.14491758],\n",
       "       [-1.15517469, -0.50262909],\n",
       "       [ 0.16602503, -2.26850051],\n",
       "       [ 1.35589389,  0.33353007],\n",
       "       [-3.31185057,  1.39240115],\n",
       "       [-0.33245686, -2.15639865],\n",
       "       [-2.23205085,  0.52868143],\n",
       "       [ 0.18583758, -1.44446967],\n",
       "       [ 0.84560856,  0.17151684],\n",
       "       [ 2.69500472,  2.74522492],\n",
       "       [ 0.44645674, -0.62393943],\n",
       "       [-1.88961007, -0.04400723],\n",
       "       [-3.08131761,  1.59724429],\n",
       "       [-3.45716348,  1.21428442],\n",
       "       [ 3.87665629,  0.46446004],\n",
       "       [ 1.575516  , -1.82299839],\n",
       "       [-3.43344371,  1.6116814 ],\n",
       "       [-4.20642597,  2.20145366],\n",
       "       [-0.14042971, -2.36871639],\n",
       "       [ 1.82731521, -1.39485103],\n",
       "       [ 2.20564744,  1.28462066],\n",
       "       [ 1.64999054,  2.33211134],\n",
       "       [-1.4611033 , -0.46480324],\n",
       "       [-0.60047516,  0.00920072],\n",
       "       [-3.08276231,  0.28287148],\n",
       "       [ 0.45035749, -2.20263755],\n",
       "       [ 0.90806897, -2.0881686 ],\n",
       "       [ 3.24973637, -0.18273485],\n",
       "       [-3.07882055,  0.69622621],\n",
       "       [ 2.54277306,  1.88571652],\n",
       "       [-2.84838157,  0.63274325],\n",
       "       [-0.88997271, -0.67927226],\n",
       "       [ 0.32368249, -2.07006175],\n",
       "       [ 0.32007527, -2.88708519],\n",
       "       [ 0.44889188, -2.14872532],\n",
       "       [-2.46582558,  1.0745577 ],\n",
       "       [ 2.81678113,  0.56344444],\n",
       "       [-2.16983025,  0.16644199],\n",
       "       [-2.66728229,  1.38137702],\n",
       "       [-3.53223924,  2.57906029],\n",
       "       [-1.96637688,  1.18319185],\n",
       "       [ 1.68741216, -1.35075321],\n",
       "       [ 0.43521077, -2.40355817],\n",
       "       [ 2.59045115,  1.63852921],\n",
       "       [ 4.35308397,  0.66536041],\n",
       "       [-1.84315373, -1.50688415],\n",
       "       [-0.40860955, -1.29720607]])"
      ]
     },
     "execution_count": 6,
     "metadata": {},
     "output_type": "execute_result"
    }
   ],
   "source": [
    "X_train_pca = np.dot(X_train_std,w)#射影行列を元の特徴量行列にかける\n",
    "X_train_pca#２次元に縮約された特徴量ができる"
   ]
  },
  {
   "cell_type": "code",
   "execution_count": 7,
   "id": "0ddc3340",
   "metadata": {},
   "outputs": [
    {
     "data": {
      "image/png": "[encoded data removed]",
      "text/plain": [
       "<Figure size 432x288 with 1 Axes>"
      ]
     },
     "metadata": {
      "needs_background": "light"
     },
     "output_type": "display_data"
    }
   ],
   "source": [
    "colors = ['r','g','b']\n",
    "markers = ['s','x','o']\n",
    "\n",
    "#yの正解ラベル、色、マーカーをzipしてループ\n",
    "for l,c,m in zip(np.unique(y_train),colors,markers):\n",
    "    plt.scatter(X_train_pca[y_train==l,0],X_train_pca[y_train==l,1],c=c,label=l,marker=m)\n",
    "    plt.xlabel('PC1')\n",
    "    plt.ylabel('PC2')\n",
    "    plt.legend(loc='upper right')\n",
    "#pca(n_components=2)した結果、x軸にひろがりをもつ主成分軸(PCA1が約４０%の分散寄与率を持つことと一致)\n",
    "#２次元にまで縮約したので、うまく線形分離可能でありそうなこともわかる"
   ]
  },
  {
   "cell_type": "code",
   "execution_count": 8,
   "id": "92ef10c3",
   "metadata": {},
   "outputs": [],
   "source": [
    "from matplotlib.colors import ListedColormap\n",
    "\n",
    "def plot_decision_regions(X, y, classifier, resolution=0.02):\n",
    "\n",
    "    # setup marker generator and color map\n",
    "    markers = ('s', 'x', 'o', '^', 'v')\n",
    "    colors = ('red', 'blue', 'lightgreen', 'gray', 'cyan')\n",
    "    cmap = ListedColormap(colors[:len(np.unique(y))])\n",
    "\n",
    "    # plot the decision surface\n",
    "    x1_min, x1_max = X[:, 0].min() - 1, X[:, 0].max() + 1\n",
    "    x2_min, x2_max = X[:, 1].min() - 1, X[:, 1].max() + 1\n",
    "    xx1, xx2 = np.meshgrid(np.arange(x1_min, x1_max, resolution),\n",
    "                           np.arange(x2_min, x2_max, resolution))\n",
    "    Z = classifier.predict(np.array([xx1.ravel(), xx2.ravel()]).T)\n",
    "    Z = Z.reshape(xx1.shape)\n",
    "    plt.contourf(xx1, xx2, Z, alpha=0.4, cmap=cmap)\n",
    "    plt.xlim(xx1.min(), xx1.max())\n",
    "    plt.ylim(xx2.min(), xx2.max())\n",
    "\n",
    "    # plot examples by class\n",
    "    for idx, cl in enumerate(np.unique(y)):\n",
    "        plt.scatter(x=X[y == cl, 0], \n",
    "                    y=X[y == cl, 1],\n",
    "                    alpha=0.6, \n",
    "                    color=cmap(idx),\n",
    "                    edgecolor='black',\n",
    "                    marker=markers[idx], \n",
    "                    label=cl)"
   ]
  },
  {
   "cell_type": "code",
   "execution_count": 9,
   "id": "56284739",
   "metadata": {},
   "outputs": [
    {
     "name": "stderr",
     "output_type": "stream",
     "text": [
      "C:\\ProgramData\\Anaconda3\\lib\\site-packages\\ipykernel_launcher.py:29: UserWarning: You passed a edgecolor/edgecolors ('black') for an unfilled marker ('x').  Matplotlib is ignoring the edgecolor in favor of the facecolor.  This behavior may change in the future.\n"
     ]
    },
    {
     "data": {
      "text/plain": [
       "<matplotlib.legend.Legend at 0x17dbde05508>"
      ]
     },
     "execution_count": 9,
     "metadata": {},
     "output_type": "execute_result"
    },
    {
     "data": {
      "image/png": "[encoded data removed]",
      "text/plain": [
       "<Figure size 432x288 with 1 Axes>"
      ]
     },
     "metadata": {
      "needs_background": "light"
     },
     "output_type": "display_data"
    }
   ],
   "source": [
    "#winedfを、２次元にまで縮めたうえで、ロジ回帰でぶんるいする\n",
    "from sklearn.decomposition import PCA\n",
    "from sklearn.linear_model import LogisticRegression\n",
    "\n",
    "#PCAインスタンス生成\n",
    "pca2 = PCA(n_components=2)\n",
    "\n",
    "#ロジ回帰インスタンス生成\n",
    "LR = LogisticRegression(random_state=0,penalty='l2',solver='lbfgs')\n",
    "\n",
    "#次元削減\n",
    "X_train_pca = pca2.fit_transform(X_train_std)\n",
    "X_test_pca = pca2.transform(X_test_std)\n",
    "\n",
    "#削減したXで、ロジ回帰を訓練\n",
    "LR.fit(X_train_pca,y_train)\n",
    "\n",
    "#決定境界を描く@traindata\n",
    "plot_decision_regions(X_train_pca, y_train, LR, resolution=0.02)\n",
    "plt.xlabel('PC1')\n",
    "plt.ylabel('PC2')\n",
    "plt.legend()"
   ]
  },
  {
   "cell_type": "code",
   "execution_count": 10,
   "id": "31c134de",
   "metadata": {},
   "outputs": [
    {
     "name": "stderr",
     "output_type": "stream",
     "text": [
      "C:\\ProgramData\\Anaconda3\\lib\\site-packages\\ipykernel_launcher.py:29: UserWarning: You passed a edgecolor/edgecolors ('black') for an unfilled marker ('x').  Matplotlib is ignoring the edgecolor in favor of the facecolor.  This behavior may change in the future.\n"
     ]
    },
    {
     "data": {
      "text/plain": [
       "<matplotlib.legend.Legend at 0x17dbddc5ac8>"
      ]
     },
     "execution_count": 10,
     "metadata": {},
     "output_type": "execute_result"
    },
    {
     "data": {
      "image/png": "[encoded data removed]",
      "text/plain": [
       "<Figure size 432x288 with 1 Axes>"
      ]
     },
     "metadata": {
      "needs_background": "light"
     },
     "output_type": "display_data"
    }
   ],
   "source": [
    "#テストデータの分類性能を見る\n",
    "plot_decision_regions(X_test_pca, y_test, LR, resolution=0.02)\n",
    "plt.xlabel('PC1')\n",
    "plt.ylabel('PC2')\n",
    "plt.legend()"
   ]
  },
  {
   "cell_type": "code",
   "execution_count": 11,
   "id": "4f7af865",
   "metadata": {},
   "outputs": [
    {
     "data": {
      "text/plain": [
       "array([0.36951469, 0.18434927, 0.11815159, 0.07334252, 0.06422108,\n",
       "       0.05051724, 0.03954654, 0.02643918, 0.02389319, 0.01629614,\n",
       "       0.01380021, 0.01172226, 0.00820609])"
      ]
     },
     "execution_count": 11,
     "metadata": {},
     "output_type": "execute_result"
    }
   ],
   "source": [
    "#すべての主成分の分散説明率をみたい\n",
    "pca_all = PCA(n_components=None)#n_components=Noneとすれば、次元削減をしないことになる\n",
    "X_train_pca = pca_all.fit(X_train_std)\n",
    "#explained_variance_ratio_でpca(この場合は元の特徴量次元)の分散寄与率を見れる\n",
    "pca_all.explained_variance_ratio_"
   ]
  },
  {
   "cell_type": "code",
   "execution_count": 12,
   "id": "78571a48",
   "metadata": {},
   "outputs": [
    {
     "name": "stdout",
     "output_type": "stream",
     "text": [
      "[[ 5.0722e+01  3.1007e+00 -7.9323e+00 -5.7848e+00 -2.8879e+00  7.8990e+00\n",
      "   2.4543e+00  9.3932e-01  9.0781e-01  1.5486e+01  7.0293e+00 -1.8659e+00\n",
      "   4.9370e+00]\n",
      " [ 3.1007e+00  9.0179e+01  4.7074e+00  1.4750e+01 -1.0900e+01 -8.8059e-02\n",
      "   9.7797e-01  8.4547e+00  4.4732e+00 -1.4494e+01 -2.0361e+01  3.5876e+00\n",
      "  -1.1176e+01]\n",
      " [-7.9323e+00  4.7074e+00  1.1189e+02  7.0126e+01  2.2213e+01  1.5505e+01\n",
      "   1.4856e+01  2.0454e+01 -2.3344e+00  1.3787e+00  5.6585e+00  8.1917e+00\n",
      "   3.2570e-01]\n",
      " [-5.7848e+00  1.4750e+01  7.0126e+01  9.2147e+01  1.2485e+01  6.2091e+00\n",
      "   6.2783e+00  1.2735e+01 -4.7597e+00 -4.1511e+00  1.1779e+00  1.1633e+01\n",
      "  -4.5296e+00]\n",
      " [-2.8879e+00 -1.0900e+01  2.2213e+01  1.2485e+01  1.0605e+02  1.0950e+01\n",
      "   5.2875e+00 -2.1136e+01  1.3076e+01  5.9930e+00  8.4568e+00 -5.3128e-01\n",
      "   1.1845e+01]\n",
      " [ 7.8990e+00 -8.8059e-02  1.5505e+01  6.2091e+00  1.0950e+01  5.7194e+01\n",
      "   2.8971e+01 -7.4850e+00  3.0810e+01  1.5516e+01  6.6816e-01  1.9382e+01\n",
      "   6.3808e+00]\n",
      " [ 2.4543e+00  9.7797e-01  1.4856e+01  6.2783e+00  5.2875e+00  2.8971e+01\n",
      "   3.1388e+01 -1.0236e+01  2.5069e+01  1.4922e+01 -1.2394e+00  1.2737e+01\n",
      "   2.7636e+00]\n",
      " [ 9.3932e-01  8.4547e+00  2.0454e+01  1.2735e+01 -2.1136e+01 -7.4850e+00\n",
      "  -1.0236e+01  8.8416e+01 -1.5290e+01 -6.5190e-01  2.8315e+00 -1.7076e+01\n",
      "  -7.0906e+00]\n",
      " [ 9.0781e-01  4.4732e+00 -2.3344e+00 -4.7597e+00  1.3076e+01  3.0810e+01\n",
      "   2.5069e+01 -1.5290e+01  9.1676e+01  2.2137e+01 -5.9150e+00  1.1376e+01\n",
      "   5.9764e+00]\n",
      " [ 1.5486e+01 -1.4494e+01  1.3787e+00 -4.1511e+00  5.9930e+00  1.5516e+01\n",
      "   1.4922e+01 -6.5190e-01  2.2137e+01  5.6702e+01 -1.0507e+01 -5.3682e+00\n",
      "   1.0706e+01]\n",
      " [ 7.0293e+00 -2.0361e+01  5.6585e+00  1.1779e+00  8.4568e+00  6.6816e-01\n",
      "  -1.2394e+00  2.8315e+00 -5.9150e+00 -1.0507e+01  5.6566e+01  3.2692e+00\n",
      "   9.6829e+00]\n",
      " [-1.8659e+00  3.5876e+00  8.1917e+00  1.1633e+01 -5.3128e-01  1.9382e+01\n",
      "   1.2737e+01 -1.7076e+01  1.1376e+01 -5.3682e+00  3.2692e+00  3.8599e+01\n",
      "  -4.6404e+00]\n",
      " [ 4.9370e+00 -1.1176e+01  3.2570e-01 -4.5296e+00  1.1845e+01  6.3808e+00\n",
      "   2.7636e+00 -7.0906e+00  5.9764e+00  1.0706e+01  9.6829e+00 -4.6404e+00\n",
      "   3.2604e+01]]\n"
     ]
    }
   ],
   "source": [
    "#線形判別分析（LDA）について\n",
    "#PCAと似ているが、教師あり学習であり、クラスの分離を最大化する特徴量空間を見つける\n",
    "\n",
    "#データが正規分布にしたがっていて、互いのクラスのデータが統計的独立であることが前提\n",
    "#(双方のクラスの共分散行列が全く同じ)\n",
    "\n",
    "#小数点４まで\n",
    "np.set_printoptions(precision=4)\n",
    "\n",
    "#クラスごとの平均値vec格納ハコ\n",
    "mean_vecs = []\n",
    "\n",
    "#wine_dfの各クラスごとの、特徴量の平均値ベクトル\n",
    "for label in [1,2,3]:\n",
    "    mean_vecs.append(np.mean(X_train_std[y_train==label],axis=0))\n",
    "    \n",
    "#個々のクラスについて変動行列を計算する\n",
    "d = 13 #次元数\n",
    "Sw = np.zeros((d,d))#クラス間変動行列を初期化\n",
    "\n",
    "for label,mv in zip([1,2,3],mean_vecs):\n",
    "    class_scatter = np.zeros((d,d))#Siが入るハコ、０で初期化\n",
    "    \n",
    "    for row in X_train_std[y_train==label]:\n",
    "        \n",
    "        row,mv = row.reshape(d,1), mv.reshape(d,1)#もとのXを、行ごとに取り出している\n",
    "        \n",
    "        #Si = Σ(x-mi)T(x-mi)で、クラス内変動行列が求まる\n",
    "        class_scatter += (row-mv).dot((row-mv).T)\n",
    "        \n",
    "    Sw += class_scatter#クラス間変動行列。Sw = ΣSi でもとまる\n",
    "\n",
    "print(Sw)#クラス間変動行列\n",
    "        "
   ]
  },
  {
   "cell_type": "code",
   "execution_count": 14,
   "id": "301e9b2a",
   "metadata": {},
   "outputs": [
    {
     "name": "stdout",
     "output_type": "stream",
     "text": [
      "Scaled within-class scatter matrix: 13x13\n"
     ]
    }
   ],
   "source": [
    "#クラス内変動行列は正規化しておく必要がある（個々のクラスの分布個数が等しくないため、クラス内データ個数で割って正規化する）\n",
    "\n",
    "#個々のクラスについて変動行列を計算する\n",
    "d = 13 #次元数\n",
    "Sw = np.zeros((d,d))#クラス内変動行列を初期化\n",
    "\n",
    "for label,mv in zip([1,2,3],mean_vecs):\n",
    "    class_scatter = np.cov(X_train_std[y_train==label].T)#正規化すると、結局各クラスに属するデータポイントからなる\n",
    "    #行列の共分散行列を求めることになる\n",
    "    Sw += class_scatter   \n",
    "\n",
    "print('Scaled within-class scatter matrix: %sx%s' % (Sw.shape[0],\n",
    "                                                     Sw.shape[1]))"
   ]
  },
  {
   "cell_type": "code",
   "execution_count": 15,
   "id": "b997313a",
   "metadata": {},
   "outputs": [
    {
     "name": "stdout",
     "output_type": "stream",
     "text": [
      "Between-class scatter matrix: 13x13\n"
     ]
    }
   ],
   "source": [
    "#クラス間変動行列を計算\n",
    "mean_overall = np.mean(X_train_std, axis=0)\n",
    "d = 13  # number of features\n",
    "S_B = np.zeros((d, d))\n",
    "for i, mean_vec in enumerate(mean_vecs):\n",
    "    n = X_train_std[y_train == i + 1, :].shape[0]\n",
    "    mean_vec = mean_vec.reshape(d, 1)  # make column vector\n",
    "    mean_overall = mean_overall.reshape(d, 1)  # make column vector\n",
    "    S_B += n * (mean_vec - mean_overall).dot((mean_vec - mean_overall).T)\n",
    "\n",
    "print('Between-class scatter matrix: %sx%s' % (S_B.shape[0], S_B.shape[1]))"
   ]
  },
  {
   "cell_type": "code",
   "execution_count": 16,
   "id": "308bd13b",
   "metadata": {},
   "outputs": [
    {
     "name": "stdout",
     "output_type": "stream",
     "text": [
      "Eigenvalues in descending order:\n",
      "\n",
      "349.61780890599397\n",
      "172.76152218979388\n",
      "6.35195870421366e-14\n",
      "2.775726337508947e-14\n",
      "2.1637428255695945e-14\n",
      "1.947599656725886e-14\n",
      "1.5723718596141004e-14\n",
      "1.5723718596141004e-14\n",
      "8.94299863827598e-15\n",
      "8.94299863827598e-15\n",
      "4.370644097943603e-15\n",
      "4.370644097943603e-15\n",
      "0.0\n"
     ]
    }
   ],
   "source": [
    "#クラス内変動行列とクラス間変動行列が計算できたら、固有値とこゆうべをもとめるじゃなく\n",
    "#クラス内行列(-1)*クラス間行列　この行列の固有値と固有ベクトルを計算\n",
    "\n",
    "eigen_vals,eigen_vecs = np.linalg.eig(np.linalg.inv(Sw).dot(S_B))\n",
    "\n",
    "# 固有値と固有ベクトルのペアからなるタプルのリストをつくって\n",
    "eigen_pairs = [(np.abs(eigen_vals[i]), eigen_vecs[:, i])\n",
    "               for i in range(len(eigen_vals))]\n",
    "\n",
    "# (eigenvalue, eigenvector)　タプルを、固有値の大きいじゅんにソートする\n",
    "eigen_pairs = sorted(eigen_pairs, key=lambda k: k[0], reverse=True)\n",
    "\n",
    "# Visually confirm that the list is correctly sorted by decreasing eigenvalues\n",
    "print('Eigenvalues in descending order:\\n')\n",
    "for eigen_val in eigen_pairs:\n",
    "    print(eigen_val[0])\n",
    "    \n",
    "#固有値をみると、0でない固有値は２こしかない。つまり０で無い固有値は、クラス数－１しか存在しないことになる\n",
    "#要は、LDAでの線形判別の個数は最大でクラス数－１でしかないということ"
   ]
  },
  {
   "cell_type": "code",
   "execution_count": 31,
   "id": "29d380f5",
   "metadata": {},
   "outputs": [
    {
     "name": "stderr",
     "output_type": "stream",
     "text": [
      "C:\\ProgramData\\Anaconda3\\lib\\site-packages\\numpy\\core\\_asarray.py:136: ComplexWarning: Casting complex values to real discards the imaginary part\n",
      "  return array(a, dtype, copy=False, order=order, subok=True)\n",
      "C:\\ProgramData\\Anaconda3\\lib\\site-packages\\numpy\\core\\_asarray.py:136: ComplexWarning: Casting complex values to real discards the imaginary part\n",
      "  return array(a, dtype, copy=False, order=order, subok=True)\n",
      "C:\\ProgramData\\Anaconda3\\lib\\site-packages\\numpy\\core\\_asarray.py:136: ComplexWarning: Casting complex values to real discards the imaginary part\n",
      "  return array(a, dtype, copy=False, order=order, subok=True)\n",
      "No artists with labels found to put in legend.  Note that artists whose label start with an underscore are ignored when legend() is called with no argument.\n"
     ]
    },
    {
     "data": {
      "text/plain": [
       "<matplotlib.legend.Legend at 0x17dbdcd0088>"
      ]
     },
     "execution_count": 31,
     "metadata": {},
     "output_type": "execute_result"
    },
    {
     "data": {
      "image/png": "[encoded data removed]",
      "text/plain": [
       "<Figure size 432x288 with 1 Axes>"
      ]
     },
     "metadata": {
      "needs_background": "light"
     },
     "output_type": "display_data"
    }
   ],
   "source": [
    "#あとはPCAとおなじ。固有値が大きい順に、固有ベクトルを取り出して、転置行列をつくる\n",
    "w = np.hstack((eigen_pairs[0][1].reshape(-1,1),eigen_pairs[1][1].reshape(-1,1)))\n",
    "\n",
    "#転置行列に、元の特徴量行列を掛ける　X'=XW\n",
    "X_train_lda = X_train_std.dot(w)\n",
    "\n",
    "colors = ['red','green','blue']\n",
    "markers = ['s','x','o']\n",
    "\n",
    "for l,c,m in zip(np.unique(y_train),colors,markers):\n",
    "    plt.scatter(X_train_lda[y_train==l,0],X_train_lda[y_train==l,1],c=c,marker=m)\n",
    "\n",
    "plt.title('LDA into 2 dimension')\n",
    "plt.xlabel('LD1')\n",
    "plt.ylabel('LD2')\n",
    "plt.legend(loc='upper right')"
   ]
  },
  {
   "cell_type": "markdown",
   "id": "eb5f0ba8",
   "metadata": {},
   "source": [
    "新しい特徴量空間では、３つのクラスが完全に線形分離されている"
   ]
  },
  {
   "cell_type": "code",
   "execution_count": 38,
   "id": "6d4505d6",
   "metadata": {},
   "outputs": [
    {
     "name": "stderr",
     "output_type": "stream",
     "text": [
      "C:\\ProgramData\\Anaconda3\\lib\\site-packages\\ipykernel_launcher.py:29: UserWarning: You passed a edgecolor/edgecolors ('black') for an unfilled marker ('x').  Matplotlib is ignoring the edgecolor in favor of the facecolor.  This behavior may change in the future.\n"
     ]
    },
    {
     "data": {
      "text/plain": [
       "<matplotlib.legend.Legend at 0x17dbefc1e48>"
      ]
     },
     "execution_count": 38,
     "metadata": {},
     "output_type": "execute_result"
    },
    {
     "data": {
      "image/png": "[encoded data removed]",
      "text/plain": [
       "<Figure size 432x288 with 1 Axes>"
      ]
     },
     "metadata": {
      "needs_background": "light"
     },
     "output_type": "display_data"
    }
   ],
   "source": [
    "#sklearnによる実装\n",
    "from sklearn.discriminant_analysis import LinearDiscriminantAnalysis as LDA\n",
    "\n",
    "#次元数を指定し、LDAの次元数を指定する\n",
    "lda = LDA(n_components=2)\n",
    "\n",
    "#train dataにfitさせる.PCAと異なるのは、LDAは教師あり学習であるので、yの情報も必要ということになる\n",
    "X_train_lda = lda.fit_transform(X_train_std,y_train)\n",
    "\n",
    "#ロジ回帰を、LDAで２次元にまで圧縮したデータで分類するとどうなるのか見てみる\n",
    "#ロジ回帰インスタンス生成\n",
    "LR2 = LogisticRegression(random_state=0,penalty='l2',solver='lbfgs')\n",
    "\n",
    "#fit\n",
    "LR2.fit(X_train_lda,y_train)\n",
    "#決定境界描画\n",
    "plot_decision_regions(X_train_lda, y_train, LR2, resolution=0.02)\n",
    "plt.xlabel('LD1')\n",
    "plt.ylabel('LD2')\n",
    "plt.legend()"
   ]
  },
  {
   "cell_type": "code",
   "execution_count": 39,
   "id": "03c3f6e2",
   "metadata": {},
   "outputs": [
    {
     "name": "stderr",
     "output_type": "stream",
     "text": [
      "C:\\ProgramData\\Anaconda3\\lib\\site-packages\\ipykernel_launcher.py:29: UserWarning: You passed a edgecolor/edgecolors ('black') for an unfilled marker ('x').  Matplotlib is ignoring the edgecolor in favor of the facecolor.  This behavior may change in the future.\n"
     ]
    },
    {
     "data": {
      "text/plain": [
       "<matplotlib.legend.Legend at 0x17dbead1fc8>"
      ]
     },
     "execution_count": 39,
     "metadata": {},
     "output_type": "execute_result"
    },
    {
     "data": {
      "image/png": "[encoded data removed]",
      "text/plain": [
       "<Figure size 432x288 with 1 Axes>"
      ]
     },
     "metadata": {
      "needs_background": "light"
     },
     "output_type": "display_data"
    }
   ],
   "source": [
    "#test データセットではどうか\n",
    "#次元数を指定し、LDAの次元数を指定する\n",
    "lda = LDA(n_components=2)\n",
    "\n",
    "#fit into test data\n",
    "X_test_lda = lda.fit_transform(X_test_std,y_test)\n",
    "\n",
    "#ロジ回帰を、LDAで２次元にまで圧縮したデータで分類するとどうなるのか見てみる\n",
    "#ロジ回帰インスタンス生成\n",
    "LR3 = LogisticRegression(random_state=0,penalty='l2',solver='lbfgs')\n",
    "\n",
    "#fit\n",
    "LR3.fit(X_test_lda,y_test)\n",
    "#決定境界描画\n",
    "plot_decision_regions(X_test_lda, y_test, LR3, resolution=0.02)\n",
    "plt.xlabel('LD1')\n",
    "plt.ylabel('LD2')\n",
    "plt.legend()"
   ]
  },
  {
   "cell_type": "code",
   "execution_count": 56,
   "id": "fa25ecbc",
   "metadata": {},
   "outputs": [
    {
     "data": {
      "text/plain": [
       "<AxesSubplot:>"
      ]
     },
     "execution_count": 56,
     "metadata": {},
     "output_type": "execute_result"
    },
    {
     "data": {
      "image/png": "[encoded data removed]",
      "text/plain": [
       "<Figure size 432x288 with 1 Axes>"
      ]
     },
     "metadata": {
      "needs_background": "light"
     },
     "output_type": "display_data"
    }
   ],
   "source": [
    "#カーネルPCAについて\n",
    "#理屈に関してはパス！SVMのカーネルトリックと同じで、より高次元に射影してその次元で線形分離できれば、非線形で分離できんじゃね？\n",
    "#でその計算の中にX同士の内積があって、高次元に射影する関数φ(xj)φ(xk)の計算がくそおもいけど、これをカーネル関数K（xj,xk）で計算すれば\n",
    "#めんどい内積の計算パスできる！っていうアイデア\n",
    "\n",
    "\n",
    "from sklearn.datasets import make_moons\n",
    "\n",
    "#カーネルPCAモジュールを使うことで、非線形\n",
    "from sklearn.decomposition import KernelPCA\n",
    "\n",
    "#月データ（非線形）\n",
    "X,y = make_moons(n_samples=100,random_state=0)\n",
    "\n",
    "#見ての通り線形分離不可能\n",
    "import seaborn as sns\n",
    "sns.scatterplot(x=X[:,0],y=X[:,1],hue=y)\n"
   ]
  },
  {
   "cell_type": "code",
   "execution_count": 57,
   "id": "f4ae2609",
   "metadata": {},
   "outputs": [
    {
     "data": {
      "text/plain": [
       "<AxesSubplot:>"
      ]
     },
     "execution_count": 57,
     "metadata": {},
     "output_type": "execute_result"
    },
    {
     "data": {
      "image/png": "[encoded data removed]",
      "text/plain": [
       "<Figure size 432x288 with 1 Axes>"
      ]
     },
     "metadata": {
      "needs_background": "light"
     },
     "output_type": "display_data"
    }
   ],
   "source": [
    "#ここで、カーネルPCAによって非線形データを,線形で分離できるように変換する\n",
    "#データを非線形変換した後にPCAを実施するのがカーネルPCA\n",
    "kpca = KernelPCA(n_components=2,kernel='rbf',gamma=15)\n",
    "\n",
    "#非線形であるデータを、２次元のうえで線形分離可能になるようにrbfカーネルで高次元空間に写像して\n",
    "#その高次元空間の位置から、２次元にまた戻したってかんじ\n",
    "Xkpca = kpca.fit_transform(X)\n",
    "sns.scatterplot(x=Xkpca[:,0],y=Xkpca[:,1],hue=y)\n"
   ]
  },
  {
   "cell_type": "code",
   "execution_count": null,
   "id": "0565260e",
   "metadata": {},
   "outputs": [],
   "source": []
  }
 ],
 "metadata": {
  "kernelspec": {
   "display_name": "Python 3 (ipykernel)",
   "language": "python",
   "name": "python3"
  },
  "language_info": {
   "codemirror_mode": {
    "name": "ipython",
    "version": 3
   },
   "file_extension": ".py",
   "mimetype": "text/x-python",
   "name": "python",
   "nbconvert_exporter": "python",
   "pygments_lexer": "ipython3",
   "version": "3.9.12"
  }
 },
 "nbformat": 4,
 "nbformat_minor": 5
}
